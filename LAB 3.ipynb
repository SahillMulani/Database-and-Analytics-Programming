{
 "cells": [
  {
   "cell_type": "markdown",
   "id": "1e1f6de9",
   "metadata": {},
   "source": [
    "1) Using a lambda expression, create mul by num() function. This function should take a numeric argument and return a one argument function that multiplies any value passed to it by the original number. Its body must be one line long.\n"
   ]
  },
  {
   "cell_type": "code",
   "execution_count": null,
   "id": "ac0a1ce9",
   "metadata": {},
   "outputs": [],
   "source": [
    "\"\"\"\n",
    "def mul_by_num(num):\n",
    " \n",
    "Returns a function that takes one argument\n",
    "and returns num\n",
    "times that argument.\n",
    "x = mul_by_num(5)\n",
    "y = mul_by_num(2)\n",
    "x(3)\n",
    "15\n",
    "y(-4)\n",
    "-8\n",
    "\n",
    "Your code goes here\n",
    "return _____\n",
    "\"\"\""
   ]
  },
  {
   "cell_type": "code",
   "execution_count": 3,
   "id": "80400ae7",
   "metadata": {},
   "outputs": [
    {
     "name": "stdout",
     "output_type": "stream",
     "text": [
      "15\n",
      "-8\n"
     ]
    }
   ],
   "source": [
    "def mul_by_num(num):\n",
    "    \"\"\"\n",
    "    Returns a function that takes one argument\n",
    "    and returns num\n",
    "    times that argument.\n",
    "    x = mul_by_num(5)\n",
    "    y = mul_by_num(2)\n",
    "    x(3)\n",
    "    15\n",
    "    y(-4)\n",
    "    -8\n",
    "    \"\"\"\n",
    "    return lambda x : x * num\n",
    "\n",
    "x = mul_by_num(5)\n",
    "print(x(3))\n",
    "\n",
    "y = mul_by_num(2)\n",
    "print(y(-4))\n",
    "\n",
    "\n",
    "\n"
   ]
  },
  {
   "cell_type": "markdown",
   "id": "8e71adba",
   "metadata": {},
   "source": [
    "2 ) Fibonacci numbers are numbers in the following integer sequence.\n",
    "0, 1, 1, 2, 3, 5, 8, 13, 21, 34, 55, 89, 144, ...\n",
    "In mathematical terms, the sequence Fn of Fibonacci numbers is defined by a recurrence\n",
    "relation:\n",
    "Fn = Fn − 1 + Fn − 2 with seed values F0 = 0 and F1 = 1.\n",
    "Produce the series of Fibonacci numbers using a lambda function."
   ]
  },
  {
   "cell_type": "code",
   "execution_count": 1,
   "id": "3831eace",
   "metadata": {},
   "outputs": [
    {
     "name": "stdout",
     "output_type": "stream",
     "text": [
      "[0, 1, 1, 2, 3, 5, 8, 13, 21, 34]\n"
     ]
    }
   ],
   "source": [
    "fibonacci = lambda n: n if n <= 1 else fibonacci(n - 1) + fibonacci(n - 2)\n",
    "\n",
    "# Change the value of 'n' to determine how many Fibonacci numbers you want\n",
    "n = 10\n",
    "fib_series = [fibonacci(i) for i in range(n)]\n",
    "\n",
    "print(fib_series)\n"
   ]
  },
  {
   "cell_type": "markdown",
   "id": "0ff1e917",
   "metadata": {},
   "source": [
    "3) Create a script that check if a page is present on the server or return an error. Use\n",
    "    the urllib seen during the lecture."
   ]
  },
  {
   "cell_type": "code",
   "execution_count": 3,
   "id": "43c28224",
   "metadata": {},
   "outputs": [],
   "source": [
    "import urllib.request\n",
    "\n",
    "request_url = urllib.request.urlopen('https://www.geeksforgeeks.org/') \n",
    "\n",
    "\n",
    "    "
   ]
  },
  {
   "cell_type": "markdown",
   "id": "0a04ee99",
   "metadata": {},
   "source": [
    "### Read XML file in Python"
   ]
  },
  {
   "cell_type": "markdown",
   "id": "aa9c2d81",
   "metadata": {},
   "source": [
    "5. Write a program to read the XML file people.xml and output a CSV file and JSON file with\n",
    "    the same information.\n",
    "    Validate the JSON using JSONLint.\n",
    "    Import the CSV using Excel or another spreadsheet program"
   ]
  },
  {
   "cell_type": "code",
   "execution_count": 3,
   "id": "b96b574a",
   "metadata": {},
   "outputs": [],
   "source": [
    "import xml.etree.ElementTree as ET\n",
    "import pandas as pd"
   ]
  },
  {
   "cell_type": "code",
   "execution_count": 4,
   "id": "adac252b",
   "metadata": {},
   "outputs": [],
   "source": [
    "tree = ET.parse(\"people.xml\")"
   ]
  },
  {
   "cell_type": "code",
   "execution_count": 5,
   "id": "56de6def",
   "metadata": {},
   "outputs": [
    {
     "name": "stdout",
     "output_type": "stream",
     "text": [
      "people\n"
     ]
    }
   ],
   "source": [
    "root  = tree.getroot()\n",
    "\n",
    "print(root.tag)"
   ]
  },
  {
   "cell_type": "code",
   "execution_count": 24,
   "id": "496e52b1",
   "metadata": {},
   "outputs": [],
   "source": [
    "df = pd.DataFrame(columns=[\"person_id\",\"first_name\",\"last_name\",\"email\",\"gender\",\"phone\"])\n",
    "    "
   ]
  },
  {
   "cell_type": "code",
   "execution_count": 25,
   "id": "a483447e",
   "metadata": {},
   "outputs": [
    {
     "data": {
      "text/html": [
       "<div>\n",
       "<style scoped>\n",
       "    .dataframe tbody tr th:only-of-type {\n",
       "        vertical-align: middle;\n",
       "    }\n",
       "\n",
       "    .dataframe tbody tr th {\n",
       "        vertical-align: top;\n",
       "    }\n",
       "\n",
       "    .dataframe thead th {\n",
       "        text-align: right;\n",
       "    }\n",
       "</style>\n",
       "<table border=\"1\" class=\"dataframe\">\n",
       "  <thead>\n",
       "    <tr style=\"text-align: right;\">\n",
       "      <th></th>\n",
       "      <th>person_id</th>\n",
       "      <th>first_name</th>\n",
       "      <th>last_name</th>\n",
       "      <th>email</th>\n",
       "      <th>gender</th>\n",
       "      <th>phone</th>\n",
       "    </tr>\n",
       "  </thead>\n",
       "  <tbody>\n",
       "  </tbody>\n",
       "</table>\n",
       "</div>"
      ],
      "text/plain": [
       "Empty DataFrame\n",
       "Columns: [person_id, first_name, last_name, email, gender, phone]\n",
       "Index: []"
      ]
     },
     "execution_count": 25,
     "metadata": {},
     "output_type": "execute_result"
    }
   ],
   "source": [
    "df"
   ]
  },
  {
   "cell_type": "code",
   "execution_count": 26,
   "id": "31b7c422",
   "metadata": {},
   "outputs": [],
   "source": [
    "data = [ ]\n",
    "for child in root :\n",
    "        person_id = child.find(\"person_id\").text\n",
    "        first_name = child.find(\"first_name\").text\n",
    "        last_name = child.find(\"last_name\").text\n",
    "        email = child.find(\"email\").text\n",
    "        gender = child.find(\"gender\").text\n",
    "        phone = child.find(\"phone\").text\n",
    "        \n",
    "        data.append( {\n",
    "            \"person_id\" : person_id,\n",
    "            \"first_name\" : first_name,\n",
    "            \"last_name\" : last_name,\n",
    "            \"email\" : email,\n",
    "            \"gender\" : gender,\n",
    "            \"phone\" : phone   \n",
    "        })\n",
    "        \n",
    "df = pd.DataFrame(data , columns=[\"person_id\",\"first_name\",\"last_name\",\"email\",\"gender\",\"phone\"])\n"
   ]
  },
  {
   "cell_type": "code",
   "execution_count": 27,
   "id": "9f3ac4b6",
   "metadata": {},
   "outputs": [
    {
     "data": {
      "text/html": [
       "<div>\n",
       "<style scoped>\n",
       "    .dataframe tbody tr th:only-of-type {\n",
       "        vertical-align: middle;\n",
       "    }\n",
       "\n",
       "    .dataframe tbody tr th {\n",
       "        vertical-align: top;\n",
       "    }\n",
       "\n",
       "    .dataframe thead th {\n",
       "        text-align: right;\n",
       "    }\n",
       "</style>\n",
       "<table border=\"1\" class=\"dataframe\">\n",
       "  <thead>\n",
       "    <tr style=\"text-align: right;\">\n",
       "      <th></th>\n",
       "      <th>person_id</th>\n",
       "      <th>first_name</th>\n",
       "      <th>last_name</th>\n",
       "      <th>email</th>\n",
       "      <th>gender</th>\n",
       "      <th>phone</th>\n",
       "    </tr>\n",
       "  </thead>\n",
       "  <tbody>\n",
       "    <tr>\n",
       "      <th>0</th>\n",
       "      <td>1</td>\n",
       "      <td>Mag</td>\n",
       "      <td>Calver</td>\n",
       "      <td>mcalver0@pcworld.com</td>\n",
       "      <td>Female</td>\n",
       "      <td>141-843-6732</td>\n",
       "    </tr>\n",
       "    <tr>\n",
       "      <th>1</th>\n",
       "      <td>2</td>\n",
       "      <td>Jae</td>\n",
       "      <td>Leathley</td>\n",
       "      <td>jleathley1@wufoo.com</td>\n",
       "      <td>Male</td>\n",
       "      <td>756-840-3114</td>\n",
       "    </tr>\n",
       "    <tr>\n",
       "      <th>2</th>\n",
       "      <td>3</td>\n",
       "      <td>Dotty</td>\n",
       "      <td>Port</td>\n",
       "      <td>dport2@narod.ru</td>\n",
       "      <td>Female</td>\n",
       "      <td>550-438-7239</td>\n",
       "    </tr>\n",
       "    <tr>\n",
       "      <th>3</th>\n",
       "      <td>4</td>\n",
       "      <td>Leonerd</td>\n",
       "      <td>McConnachie</td>\n",
       "      <td>lmcconnachie3@spotify.com</td>\n",
       "      <td>Male</td>\n",
       "      <td>999-625-4731</td>\n",
       "    </tr>\n",
       "    <tr>\n",
       "      <th>4</th>\n",
       "      <td>5</td>\n",
       "      <td>Shawn</td>\n",
       "      <td>Kinde</td>\n",
       "      <td>skinde4@pcworld.com</td>\n",
       "      <td>Female</td>\n",
       "      <td>308-741-0551</td>\n",
       "    </tr>\n",
       "    <tr>\n",
       "      <th>...</th>\n",
       "      <td>...</td>\n",
       "      <td>...</td>\n",
       "      <td>...</td>\n",
       "      <td>...</td>\n",
       "      <td>...</td>\n",
       "      <td>...</td>\n",
       "    </tr>\n",
       "    <tr>\n",
       "      <th>995</th>\n",
       "      <td>996</td>\n",
       "      <td>Velma</td>\n",
       "      <td>Fowle</td>\n",
       "      <td>vfowlern@imageshack.us</td>\n",
       "      <td>Female</td>\n",
       "      <td>780-720-4151</td>\n",
       "    </tr>\n",
       "    <tr>\n",
       "      <th>996</th>\n",
       "      <td>997</td>\n",
       "      <td>Francois</td>\n",
       "      <td>Wrate</td>\n",
       "      <td>fwratero@xinhuanet.com</td>\n",
       "      <td>Male</td>\n",
       "      <td>320-734-0615</td>\n",
       "    </tr>\n",
       "    <tr>\n",
       "      <th>997</th>\n",
       "      <td>998</td>\n",
       "      <td>Ewen</td>\n",
       "      <td>Crisell</td>\n",
       "      <td>ecrisellrp@woothemes.com</td>\n",
       "      <td>Male</td>\n",
       "      <td>832-956-4591</td>\n",
       "    </tr>\n",
       "    <tr>\n",
       "      <th>998</th>\n",
       "      <td>999</td>\n",
       "      <td>Rob</td>\n",
       "      <td>Beran</td>\n",
       "      <td>rberanrq@smugmug.com</td>\n",
       "      <td>Male</td>\n",
       "      <td>969-990-3067</td>\n",
       "    </tr>\n",
       "    <tr>\n",
       "      <th>999</th>\n",
       "      <td>1000</td>\n",
       "      <td>Alanson</td>\n",
       "      <td>Finley</td>\n",
       "      <td>afinleyrr@google.co.uk</td>\n",
       "      <td>Male</td>\n",
       "      <td>233-419-0173</td>\n",
       "    </tr>\n",
       "  </tbody>\n",
       "</table>\n",
       "<p>1000 rows × 6 columns</p>\n",
       "</div>"
      ],
      "text/plain": [
       "    person_id first_name    last_name                      email  gender  \\\n",
       "0           1        Mag       Calver       mcalver0@pcworld.com  Female   \n",
       "1           2        Jae     Leathley       jleathley1@wufoo.com    Male   \n",
       "2           3      Dotty         Port            dport2@narod.ru  Female   \n",
       "3           4    Leonerd  McConnachie  lmcconnachie3@spotify.com    Male   \n",
       "4           5      Shawn        Kinde        skinde4@pcworld.com  Female   \n",
       "..        ...        ...          ...                        ...     ...   \n",
       "995       996      Velma        Fowle     vfowlern@imageshack.us  Female   \n",
       "996       997   Francois        Wrate     fwratero@xinhuanet.com    Male   \n",
       "997       998       Ewen      Crisell   ecrisellrp@woothemes.com    Male   \n",
       "998       999        Rob        Beran       rberanrq@smugmug.com    Male   \n",
       "999      1000    Alanson       Finley     afinleyrr@google.co.uk    Male   \n",
       "\n",
       "            phone  \n",
       "0    141-843-6732  \n",
       "1    756-840-3114  \n",
       "2    550-438-7239  \n",
       "3    999-625-4731  \n",
       "4    308-741-0551  \n",
       "..            ...  \n",
       "995  780-720-4151  \n",
       "996  320-734-0615  \n",
       "997  832-956-4591  \n",
       "998  969-990-3067  \n",
       "999  233-419-0173  \n",
       "\n",
       "[1000 rows x 6 columns]"
      ]
     },
     "execution_count": 27,
     "metadata": {},
     "output_type": "execute_result"
    }
   ],
   "source": [
    "df"
   ]
  },
  {
   "cell_type": "code",
   "execution_count": 28,
   "id": "6466fafd",
   "metadata": {},
   "outputs": [],
   "source": [
    "df.to_csv('XMLtoCsv.csv')"
   ]
  },
  {
   "cell_type": "code",
   "execution_count": 31,
   "id": "c6f2da1d",
   "metadata": {},
   "outputs": [],
   "source": [
    "df2 = df.drop(df.columns[0],axis=1)\n"
   ]
  },
  {
   "cell_type": "code",
   "execution_count": 46,
   "id": "46e735c3",
   "metadata": {},
   "outputs": [],
   "source": [
    "df2 = df.set_index('person_id')"
   ]
  },
  {
   "cell_type": "code",
   "execution_count": 47,
   "id": "0217079a",
   "metadata": {},
   "outputs": [
    {
     "data": {
      "text/html": [
       "<div>\n",
       "<style scoped>\n",
       "    .dataframe tbody tr th:only-of-type {\n",
       "        vertical-align: middle;\n",
       "    }\n",
       "\n",
       "    .dataframe tbody tr th {\n",
       "        vertical-align: top;\n",
       "    }\n",
       "\n",
       "    .dataframe thead th {\n",
       "        text-align: right;\n",
       "    }\n",
       "</style>\n",
       "<table border=\"1\" class=\"dataframe\">\n",
       "  <thead>\n",
       "    <tr style=\"text-align: right;\">\n",
       "      <th></th>\n",
       "      <th>first_name</th>\n",
       "      <th>last_name</th>\n",
       "      <th>email</th>\n",
       "      <th>gender</th>\n",
       "      <th>phone</th>\n",
       "    </tr>\n",
       "    <tr>\n",
       "      <th>person_id</th>\n",
       "      <th></th>\n",
       "      <th></th>\n",
       "      <th></th>\n",
       "      <th></th>\n",
       "      <th></th>\n",
       "    </tr>\n",
       "  </thead>\n",
       "  <tbody>\n",
       "    <tr>\n",
       "      <th>1</th>\n",
       "      <td>Mag</td>\n",
       "      <td>Calver</td>\n",
       "      <td>mcalver0@pcworld.com</td>\n",
       "      <td>Female</td>\n",
       "      <td>141-843-6732</td>\n",
       "    </tr>\n",
       "    <tr>\n",
       "      <th>2</th>\n",
       "      <td>Jae</td>\n",
       "      <td>Leathley</td>\n",
       "      <td>jleathley1@wufoo.com</td>\n",
       "      <td>Male</td>\n",
       "      <td>756-840-3114</td>\n",
       "    </tr>\n",
       "    <tr>\n",
       "      <th>3</th>\n",
       "      <td>Dotty</td>\n",
       "      <td>Port</td>\n",
       "      <td>dport2@narod.ru</td>\n",
       "      <td>Female</td>\n",
       "      <td>550-438-7239</td>\n",
       "    </tr>\n",
       "    <tr>\n",
       "      <th>4</th>\n",
       "      <td>Leonerd</td>\n",
       "      <td>McConnachie</td>\n",
       "      <td>lmcconnachie3@spotify.com</td>\n",
       "      <td>Male</td>\n",
       "      <td>999-625-4731</td>\n",
       "    </tr>\n",
       "    <tr>\n",
       "      <th>5</th>\n",
       "      <td>Shawn</td>\n",
       "      <td>Kinde</td>\n",
       "      <td>skinde4@pcworld.com</td>\n",
       "      <td>Female</td>\n",
       "      <td>308-741-0551</td>\n",
       "    </tr>\n",
       "    <tr>\n",
       "      <th>...</th>\n",
       "      <td>...</td>\n",
       "      <td>...</td>\n",
       "      <td>...</td>\n",
       "      <td>...</td>\n",
       "      <td>...</td>\n",
       "    </tr>\n",
       "    <tr>\n",
       "      <th>996</th>\n",
       "      <td>Velma</td>\n",
       "      <td>Fowle</td>\n",
       "      <td>vfowlern@imageshack.us</td>\n",
       "      <td>Female</td>\n",
       "      <td>780-720-4151</td>\n",
       "    </tr>\n",
       "    <tr>\n",
       "      <th>997</th>\n",
       "      <td>Francois</td>\n",
       "      <td>Wrate</td>\n",
       "      <td>fwratero@xinhuanet.com</td>\n",
       "      <td>Male</td>\n",
       "      <td>320-734-0615</td>\n",
       "    </tr>\n",
       "    <tr>\n",
       "      <th>998</th>\n",
       "      <td>Ewen</td>\n",
       "      <td>Crisell</td>\n",
       "      <td>ecrisellrp@woothemes.com</td>\n",
       "      <td>Male</td>\n",
       "      <td>832-956-4591</td>\n",
       "    </tr>\n",
       "    <tr>\n",
       "      <th>999</th>\n",
       "      <td>Rob</td>\n",
       "      <td>Beran</td>\n",
       "      <td>rberanrq@smugmug.com</td>\n",
       "      <td>Male</td>\n",
       "      <td>969-990-3067</td>\n",
       "    </tr>\n",
       "    <tr>\n",
       "      <th>1000</th>\n",
       "      <td>Alanson</td>\n",
       "      <td>Finley</td>\n",
       "      <td>afinleyrr@google.co.uk</td>\n",
       "      <td>Male</td>\n",
       "      <td>233-419-0173</td>\n",
       "    </tr>\n",
       "  </tbody>\n",
       "</table>\n",
       "<p>1000 rows × 5 columns</p>\n",
       "</div>"
      ],
      "text/plain": [
       "          first_name    last_name                      email  gender  \\\n",
       "person_id                                                              \n",
       "1                Mag       Calver       mcalver0@pcworld.com  Female   \n",
       "2                Jae     Leathley       jleathley1@wufoo.com    Male   \n",
       "3              Dotty         Port            dport2@narod.ru  Female   \n",
       "4            Leonerd  McConnachie  lmcconnachie3@spotify.com    Male   \n",
       "5              Shawn        Kinde        skinde4@pcworld.com  Female   \n",
       "...              ...          ...                        ...     ...   \n",
       "996            Velma        Fowle     vfowlern@imageshack.us  Female   \n",
       "997         Francois        Wrate     fwratero@xinhuanet.com    Male   \n",
       "998             Ewen      Crisell   ecrisellrp@woothemes.com    Male   \n",
       "999              Rob        Beran       rberanrq@smugmug.com    Male   \n",
       "1000         Alanson       Finley     afinleyrr@google.co.uk    Male   \n",
       "\n",
       "                  phone  \n",
       "person_id                \n",
       "1          141-843-6732  \n",
       "2          756-840-3114  \n",
       "3          550-438-7239  \n",
       "4          999-625-4731  \n",
       "5          308-741-0551  \n",
       "...                 ...  \n",
       "996        780-720-4151  \n",
       "997        320-734-0615  \n",
       "998        832-956-4591  \n",
       "999        969-990-3067  \n",
       "1000       233-419-0173  \n",
       "\n",
       "[1000 rows x 5 columns]"
      ]
     },
     "execution_count": 47,
     "metadata": {},
     "output_type": "execute_result"
    }
   ],
   "source": [
    "df2"
   ]
  },
  {
   "cell_type": "code",
   "execution_count": 50,
   "id": "b02b06b9",
   "metadata": {},
   "outputs": [],
   "source": [
    "json = df.to_json()"
   ]
  },
  {
   "cell_type": "code",
   "execution_count": 52,
   "id": "ebcb35bf",
   "metadata": {},
   "outputs": [
    {
     "data": {
      "text/html": [
       "<div>\n",
       "<style scoped>\n",
       "    .dataframe tbody tr th:only-of-type {\n",
       "        vertical-align: middle;\n",
       "    }\n",
       "\n",
       "    .dataframe tbody tr th {\n",
       "        vertical-align: top;\n",
       "    }\n",
       "\n",
       "    .dataframe thead th {\n",
       "        text-align: right;\n",
       "    }\n",
       "</style>\n",
       "<table border=\"1\" class=\"dataframe\">\n",
       "  <thead>\n",
       "    <tr style=\"text-align: right;\">\n",
       "      <th></th>\n",
       "      <th>person_id</th>\n",
       "      <th>first_name</th>\n",
       "      <th>last_name</th>\n",
       "      <th>email</th>\n",
       "      <th>gender</th>\n",
       "      <th>phone</th>\n",
       "    </tr>\n",
       "  </thead>\n",
       "  <tbody>\n",
       "    <tr>\n",
       "      <th>0</th>\n",
       "      <td>1</td>\n",
       "      <td>Mag</td>\n",
       "      <td>Calver</td>\n",
       "      <td>mcalver0@pcworld.com</td>\n",
       "      <td>Female</td>\n",
       "      <td>141-843-6732</td>\n",
       "    </tr>\n",
       "    <tr>\n",
       "      <th>1</th>\n",
       "      <td>2</td>\n",
       "      <td>Jae</td>\n",
       "      <td>Leathley</td>\n",
       "      <td>jleathley1@wufoo.com</td>\n",
       "      <td>Male</td>\n",
       "      <td>756-840-3114</td>\n",
       "    </tr>\n",
       "    <tr>\n",
       "      <th>2</th>\n",
       "      <td>3</td>\n",
       "      <td>Dotty</td>\n",
       "      <td>Port</td>\n",
       "      <td>dport2@narod.ru</td>\n",
       "      <td>Female</td>\n",
       "      <td>550-438-7239</td>\n",
       "    </tr>\n",
       "    <tr>\n",
       "      <th>3</th>\n",
       "      <td>4</td>\n",
       "      <td>Leonerd</td>\n",
       "      <td>McConnachie</td>\n",
       "      <td>lmcconnachie3@spotify.com</td>\n",
       "      <td>Male</td>\n",
       "      <td>999-625-4731</td>\n",
       "    </tr>\n",
       "    <tr>\n",
       "      <th>4</th>\n",
       "      <td>5</td>\n",
       "      <td>Shawn</td>\n",
       "      <td>Kinde</td>\n",
       "      <td>skinde4@pcworld.com</td>\n",
       "      <td>Female</td>\n",
       "      <td>308-741-0551</td>\n",
       "    </tr>\n",
       "    <tr>\n",
       "      <th>...</th>\n",
       "      <td>...</td>\n",
       "      <td>...</td>\n",
       "      <td>...</td>\n",
       "      <td>...</td>\n",
       "      <td>...</td>\n",
       "      <td>...</td>\n",
       "    </tr>\n",
       "    <tr>\n",
       "      <th>995</th>\n",
       "      <td>996</td>\n",
       "      <td>Velma</td>\n",
       "      <td>Fowle</td>\n",
       "      <td>vfowlern@imageshack.us</td>\n",
       "      <td>Female</td>\n",
       "      <td>780-720-4151</td>\n",
       "    </tr>\n",
       "    <tr>\n",
       "      <th>996</th>\n",
       "      <td>997</td>\n",
       "      <td>Francois</td>\n",
       "      <td>Wrate</td>\n",
       "      <td>fwratero@xinhuanet.com</td>\n",
       "      <td>Male</td>\n",
       "      <td>320-734-0615</td>\n",
       "    </tr>\n",
       "    <tr>\n",
       "      <th>997</th>\n",
       "      <td>998</td>\n",
       "      <td>Ewen</td>\n",
       "      <td>Crisell</td>\n",
       "      <td>ecrisellrp@woothemes.com</td>\n",
       "      <td>Male</td>\n",
       "      <td>832-956-4591</td>\n",
       "    </tr>\n",
       "    <tr>\n",
       "      <th>998</th>\n",
       "      <td>999</td>\n",
       "      <td>Rob</td>\n",
       "      <td>Beran</td>\n",
       "      <td>rberanrq@smugmug.com</td>\n",
       "      <td>Male</td>\n",
       "      <td>969-990-3067</td>\n",
       "    </tr>\n",
       "    <tr>\n",
       "      <th>999</th>\n",
       "      <td>1000</td>\n",
       "      <td>Alanson</td>\n",
       "      <td>Finley</td>\n",
       "      <td>afinleyrr@google.co.uk</td>\n",
       "      <td>Male</td>\n",
       "      <td>233-419-0173</td>\n",
       "    </tr>\n",
       "  </tbody>\n",
       "</table>\n",
       "<p>1000 rows × 6 columns</p>\n",
       "</div>"
      ],
      "text/plain": [
       "    person_id first_name    last_name                      email  gender  \\\n",
       "0           1        Mag       Calver       mcalver0@pcworld.com  Female   \n",
       "1           2        Jae     Leathley       jleathley1@wufoo.com    Male   \n",
       "2           3      Dotty         Port            dport2@narod.ru  Female   \n",
       "3           4    Leonerd  McConnachie  lmcconnachie3@spotify.com    Male   \n",
       "4           5      Shawn        Kinde        skinde4@pcworld.com  Female   \n",
       "..        ...        ...          ...                        ...     ...   \n",
       "995       996      Velma        Fowle     vfowlern@imageshack.us  Female   \n",
       "996       997   Francois        Wrate     fwratero@xinhuanet.com    Male   \n",
       "997       998       Ewen      Crisell   ecrisellrp@woothemes.com    Male   \n",
       "998       999        Rob        Beran       rberanrq@smugmug.com    Male   \n",
       "999      1000    Alanson       Finley     afinleyrr@google.co.uk    Male   \n",
       "\n",
       "            phone  \n",
       "0    141-843-6732  \n",
       "1    756-840-3114  \n",
       "2    550-438-7239  \n",
       "3    999-625-4731  \n",
       "4    308-741-0551  \n",
       "..            ...  \n",
       "995  780-720-4151  \n",
       "996  320-734-0615  \n",
       "997  832-956-4591  \n",
       "998  969-990-3067  \n",
       "999  233-419-0173  \n",
       "\n",
       "[1000 rows x 6 columns]"
      ]
     },
     "execution_count": 52,
     "metadata": {},
     "output_type": "execute_result"
    }
   ],
   "source": [
    "df"
   ]
  },
  {
   "cell_type": "code",
   "execution_count": 54,
   "id": "5064d582",
   "metadata": {},
   "outputs": [],
   "source": [
    "df2.to_json('temp.json', orient='records', lines=True)"
   ]
  },
  {
   "cell_type": "code",
   "execution_count": null,
   "id": "9ed3725b",
   "metadata": {},
   "outputs": [],
   "source": []
  },
  {
   "cell_type": "markdown",
   "id": "6383ea0a",
   "metadata": {},
   "source": [
    "6. Optional!\n",
    "Have you completed all the tasks early and do feel like taking on an additional challenge?\n",
    "Filter the XML file to include only those people living in Ireland. Output the resulting\n",
    "filtered XML in both CSV and JSON format. For some clues as to how you might approach\n",
    "this, check out the ElementTree documentation.\n"
   ]
  },
  {
   "cell_type": "code",
   "execution_count": 6,
   "id": "c88c40cf",
   "metadata": {},
   "outputs": [
    {
     "name": "stdout",
     "output_type": "stream",
     "text": [
      "people\n"
     ]
    }
   ],
   "source": [
    "root  = tree.getroot()\n",
    "\n",
    "print(root.tag)"
   ]
  },
  {
   "cell_type": "code",
   "execution_count": 27,
   "id": "3adb688f",
   "metadata": {},
   "outputs": [],
   "source": [
    "data = [ ]\n",
    "for child in root :\n",
    "        for value in child :\n",
    "            if value.tag == \"address\" and value.find(\"country\").text == \"Ireland\":\n",
    "                person_id = child.find(\"person_id\").text\n",
    "                first_name = child.find(\"first_name\").text\n",
    "                last_name = child.find(\"last_name\").text\n",
    "                email = child.find(\"email\").text\n",
    "                gender = child.find(\"gender\").text\n",
    "                phone = child.find(\"phone\").text\n",
    "\n",
    "                data.append( {\n",
    "                    \"person_id\" : person_id,\n",
    "                    \"first_name\" : first_name,\n",
    "                    \"last_name\" : last_name,\n",
    "                    \"email\" : email,\n",
    "                    \"gender\" : gender,\n",
    "                    \"phone\" : phone   \n",
    "                })\n",
    "                "
   ]
  },
  {
   "cell_type": "code",
   "execution_count": null,
   "id": "1b22a6c4",
   "metadata": {},
   "outputs": [],
   "source": []
  },
  {
   "cell_type": "code",
   "execution_count": 28,
   "id": "745be361",
   "metadata": {},
   "outputs": [
    {
     "data": {
      "text/plain": [
       "[{'person_id': '85',\n",
       "  'first_name': 'Vallie',\n",
       "  'last_name': 'Nanelli',\n",
       "  'email': 'vnanelli2c@ucoz.com',\n",
       "  'gender': 'Female',\n",
       "  'phone': '697-802-2286'},\n",
       " {'person_id': '106',\n",
       "  'first_name': 'Godfrey',\n",
       "  'last_name': 'Lehrahan',\n",
       "  'email': 'glehrahan2x@howstuffworks.com',\n",
       "  'gender': 'Male',\n",
       "  'phone': '279-339-7758'},\n",
       " {'person_id': '253',\n",
       "  'first_name': 'Conrade',\n",
       "  'last_name': 'Gye',\n",
       "  'email': 'cgye70@furl.net',\n",
       "  'gender': 'Male',\n",
       "  'phone': '792-740-0191'},\n",
       " {'person_id': '596',\n",
       "  'first_name': 'Talia',\n",
       "  'last_name': 'Baumann',\n",
       "  'email': 'tbaumanngj@gnu.org',\n",
       "  'gender': 'Female',\n",
       "  'phone': '906-637-2679'},\n",
       " {'person_id': '821',\n",
       "  'first_name': 'Haily',\n",
       "  'last_name': 'Woodus',\n",
       "  'email': 'hwoodusms@mapy.cz',\n",
       "  'gender': 'Male',\n",
       "  'phone': '900-410-6225'},\n",
       " {'person_id': '982',\n",
       "  'first_name': 'Gib',\n",
       "  'last_name': 'Sharple',\n",
       "  'email': 'gsharpler9@chicagotribune.com',\n",
       "  'gender': 'Male',\n",
       "  'phone': '315-369-4117'}]"
      ]
     },
     "execution_count": 28,
     "metadata": {},
     "output_type": "execute_result"
    }
   ],
   "source": [
    "data"
   ]
  },
  {
   "cell_type": "code",
   "execution_count": 29,
   "id": "7067f421",
   "metadata": {},
   "outputs": [],
   "source": [
    "df = pd.DataFrame(data , columns=[\"person_id\",\"first_name\",\"last_name\",\"email\",\"gender\",\"phone\"])\n"
   ]
  },
  {
   "cell_type": "code",
   "execution_count": 30,
   "id": "f0014e2d",
   "metadata": {},
   "outputs": [
    {
     "data": {
      "text/html": [
       "<div>\n",
       "<style scoped>\n",
       "    .dataframe tbody tr th:only-of-type {\n",
       "        vertical-align: middle;\n",
       "    }\n",
       "\n",
       "    .dataframe tbody tr th {\n",
       "        vertical-align: top;\n",
       "    }\n",
       "\n",
       "    .dataframe thead th {\n",
       "        text-align: right;\n",
       "    }\n",
       "</style>\n",
       "<table border=\"1\" class=\"dataframe\">\n",
       "  <thead>\n",
       "    <tr style=\"text-align: right;\">\n",
       "      <th></th>\n",
       "      <th>person_id</th>\n",
       "      <th>first_name</th>\n",
       "      <th>last_name</th>\n",
       "      <th>email</th>\n",
       "      <th>gender</th>\n",
       "      <th>phone</th>\n",
       "    </tr>\n",
       "  </thead>\n",
       "  <tbody>\n",
       "    <tr>\n",
       "      <th>0</th>\n",
       "      <td>85</td>\n",
       "      <td>Vallie</td>\n",
       "      <td>Nanelli</td>\n",
       "      <td>vnanelli2c@ucoz.com</td>\n",
       "      <td>Female</td>\n",
       "      <td>697-802-2286</td>\n",
       "    </tr>\n",
       "    <tr>\n",
       "      <th>1</th>\n",
       "      <td>106</td>\n",
       "      <td>Godfrey</td>\n",
       "      <td>Lehrahan</td>\n",
       "      <td>glehrahan2x@howstuffworks.com</td>\n",
       "      <td>Male</td>\n",
       "      <td>279-339-7758</td>\n",
       "    </tr>\n",
       "    <tr>\n",
       "      <th>2</th>\n",
       "      <td>253</td>\n",
       "      <td>Conrade</td>\n",
       "      <td>Gye</td>\n",
       "      <td>cgye70@furl.net</td>\n",
       "      <td>Male</td>\n",
       "      <td>792-740-0191</td>\n",
       "    </tr>\n",
       "    <tr>\n",
       "      <th>3</th>\n",
       "      <td>596</td>\n",
       "      <td>Talia</td>\n",
       "      <td>Baumann</td>\n",
       "      <td>tbaumanngj@gnu.org</td>\n",
       "      <td>Female</td>\n",
       "      <td>906-637-2679</td>\n",
       "    </tr>\n",
       "    <tr>\n",
       "      <th>4</th>\n",
       "      <td>821</td>\n",
       "      <td>Haily</td>\n",
       "      <td>Woodus</td>\n",
       "      <td>hwoodusms@mapy.cz</td>\n",
       "      <td>Male</td>\n",
       "      <td>900-410-6225</td>\n",
       "    </tr>\n",
       "    <tr>\n",
       "      <th>5</th>\n",
       "      <td>982</td>\n",
       "      <td>Gib</td>\n",
       "      <td>Sharple</td>\n",
       "      <td>gsharpler9@chicagotribune.com</td>\n",
       "      <td>Male</td>\n",
       "      <td>315-369-4117</td>\n",
       "    </tr>\n",
       "  </tbody>\n",
       "</table>\n",
       "</div>"
      ],
      "text/plain": [
       "  person_id first_name last_name                          email  gender  \\\n",
       "0        85     Vallie   Nanelli            vnanelli2c@ucoz.com  Female   \n",
       "1       106    Godfrey  Lehrahan  glehrahan2x@howstuffworks.com    Male   \n",
       "2       253    Conrade       Gye                cgye70@furl.net    Male   \n",
       "3       596      Talia   Baumann             tbaumanngj@gnu.org  Female   \n",
       "4       821      Haily    Woodus              hwoodusms@mapy.cz    Male   \n",
       "5       982        Gib   Sharple  gsharpler9@chicagotribune.com    Male   \n",
       "\n",
       "          phone  \n",
       "0  697-802-2286  \n",
       "1  279-339-7758  \n",
       "2  792-740-0191  \n",
       "3  906-637-2679  \n",
       "4  900-410-6225  \n",
       "5  315-369-4117  "
      ]
     },
     "execution_count": 30,
     "metadata": {},
     "output_type": "execute_result"
    }
   ],
   "source": [
    "df"
   ]
  },
  {
   "cell_type": "code",
   "execution_count": 31,
   "id": "21a63e97",
   "metadata": {},
   "outputs": [],
   "source": [
    "df.to_csv('IrelandPeople.csv')"
   ]
  },
  {
   "cell_type": "code",
   "execution_count": 32,
   "id": "6f0ecfdb",
   "metadata": {},
   "outputs": [],
   "source": [
    "json = df.to_json()"
   ]
  },
  {
   "cell_type": "code",
   "execution_count": 33,
   "id": "5aff65ba",
   "metadata": {},
   "outputs": [
    {
     "data": {
      "text/plain": [
       "'{\"person_id\":{\"0\":\"85\",\"1\":\"106\",\"2\":\"253\",\"3\":\"596\",\"4\":\"821\",\"5\":\"982\"},\"first_name\":{\"0\":\"Vallie\",\"1\":\"Godfrey\",\"2\":\"Conrade\",\"3\":\"Talia\",\"4\":\"Haily\",\"5\":\"Gib\"},\"last_name\":{\"0\":\"Nanelli\",\"1\":\"Lehrahan\",\"2\":\"Gye\",\"3\":\"Baumann\",\"4\":\"Woodus\",\"5\":\"Sharple\"},\"email\":{\"0\":\"vnanelli2c@ucoz.com\",\"1\":\"glehrahan2x@howstuffworks.com\",\"2\":\"cgye70@furl.net\",\"3\":\"tbaumanngj@gnu.org\",\"4\":\"hwoodusms@mapy.cz\",\"5\":\"gsharpler9@chicagotribune.com\"},\"gender\":{\"0\":\"Female\",\"1\":\"Male\",\"2\":\"Male\",\"3\":\"Female\",\"4\":\"Male\",\"5\":\"Male\"},\"phone\":{\"0\":\"697-802-2286\",\"1\":\"279-339-7758\",\"2\":\"792-740-0191\",\"3\":\"906-637-2679\",\"4\":\"900-410-6225\",\"5\":\"315-369-4117\"}}'"
      ]
     },
     "execution_count": 33,
     "metadata": {},
     "output_type": "execute_result"
    }
   ],
   "source": [
    "json"
   ]
  },
  {
   "cell_type": "code",
   "execution_count": null,
   "id": "0d064e46",
   "metadata": {},
   "outputs": [],
   "source": []
  },
  {
   "cell_type": "code",
   "execution_count": null,
   "id": "4f31093e",
   "metadata": {},
   "outputs": [],
   "source": []
  },
  {
   "cell_type": "code",
   "execution_count": 49,
   "id": "259bff7f",
   "metadata": {},
   "outputs": [
    {
     "name": "stdout",
     "output_type": "stream",
     "text": [
      "<function mul.<locals>.<lambda> at 0x00000276E0EAAE60>\n",
      "20\n"
     ]
    },
    {
     "data": {
      "text/plain": [
       "20"
      ]
     },
     "execution_count": 49,
     "metadata": {},
     "output_type": "execute_result"
    }
   ],
   "source": [
    "def mul(n):\n",
    "    return lambda x : x * n\n",
    "\n",
    "output_mul = mul(10) \n",
    "print(output_mul) # \"m is a function which multiplies your arguments passed by 6\"\n",
    "\n",
    "\n",
    "print(output_mul(2))\n",
    "\n",
    "# ===============================\n",
    "\n",
    "\n",
    "\n",
    "def multiply(x , y , z ) : \n",
    "    return x * 10\n",
    "\n",
    "\n"
   ]
  },
  {
   "cell_type": "code",
   "execution_count": 45,
   "id": "2d7af10b",
   "metadata": {},
   "outputs": [
    {
     "data": {
      "text/plain": [
       "12"
      ]
     },
     "execution_count": 45,
     "metadata": {},
     "output_type": "execute_result"
    }
   ],
   "source": [
    "def outer(x,n):\n",
    "   def inner(x):\n",
    "      return x * n\n",
    "   return inner(x\\\n",
    "                \n",
    "output = outer(2,6)\n",
    "\n",
    "output"
   ]
  },
  {
   "cell_type": "code",
   "execution_count": 46,
   "id": "4279869c",
   "metadata": {},
   "outputs": [
    {
     "name": "stdout",
     "output_type": "stream",
     "text": [
      "12\n"
     ]
    }
   ],
   "source": [
    "def outer(n):\n",
    "   def inner(x):\n",
    "      return x * n\n",
    "   return inner\n",
    "\n",
    "output = outer(6)\n",
    "\n",
    "final_output = output(2)\n",
    "\n",
    "print(final_output)\n",
    "\n"
   ]
  },
  {
   "cell_type": "code",
   "execution_count": null,
   "id": "c6e7aa43",
   "metadata": {},
   "outputs": [],
   "source": []
  }
 ],
 "metadata": {
  "kernelspec": {
   "display_name": "Python 3 (ipykernel)",
   "language": "python",
   "name": "python3"
  },
  "language_info": {
   "codemirror_mode": {
    "name": "ipython",
    "version": 3
   },
   "file_extension": ".py",
   "mimetype": "text/x-python",
   "name": "python",
   "nbconvert_exporter": "python",
   "pygments_lexer": "ipython3",
   "version": "3.10.6"
  }
 },
 "nbformat": 4,
 "nbformat_minor": 5
}
