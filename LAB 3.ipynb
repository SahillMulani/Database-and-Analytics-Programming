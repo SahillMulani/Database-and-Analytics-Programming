{
 "cells": [
  {
   "cell_type": "code",
   "execution_count": 1,
   "id": "56a92b4e",
   "metadata": {},
   "outputs": [
    {
     "name": "stdout",
     "output_type": "stream",
     "text": [
      "<function mul_by_num.<locals>.<lambda> at 0x00000268A0651120>\n"
     ]
    }
   ],
   "source": [
    "\n",
    "\n"
   ]
  },
  {
   "cell_type": "code",
   "execution_count": null,
   "id": "c0a6d7ab",
   "metadata": {},
   "outputs": [],
   "source": [
    "def mul_by_num(num):\n",
    "    \"\"\"\n",
    "    Returns a function that takes one argument\n",
    "    and returns num times that argument.\n",
    "    \"\"\"\n",
    "    def multiplier(x):\n",
    "        return num * x\n",
    "    return multiplier\n",
    "\n",
    "# Example usage\n",
    "x = multiplier(5)\n",
    "y = mul_by_num(2)\n",
    "result_x = mul(3)\n",
    "result_y = y(-4)\n",
    "\n",
    "print(result_x)  # Output: 15\n",
    "print(result_y)  # Output: -8\n"
   ]
  },
  {
   "cell_type": "markdown",
   "id": "b6ffeefa",
   "metadata": {},
   "source": [
    "def mul_by_num(num):\n",
    "\"\"\"\n",
    "Returns a function that takes one argument\n",
    "and returns num\n",
    "times that argument.\n",
    "x = mul_by_num(5)\n",
    "y = mul_by_num(2)\n",
    "x(3)\n",
    "15\n",
    "y(-4)\n",
    "-8\n",
    "\"\"\"\n",
    "\n",
    "x = lambda a : a + 10\n",
    "return ______\n"
   ]
  },
  {
   "cell_type": "code",
   "execution_count": 5,
   "id": "80400ae7",
   "metadata": {},
   "outputs": [
    {
     "data": {
      "text/plain": [
       "-8"
      ]
     },
     "execution_count": 5,
     "metadata": {},
     "output_type": "execute_result"
    }
   ],
   "source": [
    "def mul_by_num(num):\n",
    "    \"\"\"\n",
    "    Returns a function that takes one argument\n",
    "    and returns num\n",
    "    times that argument.\n",
    "    x = mul_by_num(5)\n",
    "    y = mul_by_num(2)\n",
    "    x(3)\n",
    "    15\n",
    "    y(-4)\n",
    "    -8\n",
    "    \"\"\"\n",
    "    def multiplier \n",
    "\n",
    "x = mul_by_num(5)\n",
    "x(3)\n",
    "\n",
    "y = mul_by_num(2)\n",
    "y(-4)\n",
    "\n",
    "\n"
   ]
  },
  {
   "cell_type": "code",
   "execution_count": null,
   "id": "43c28224",
   "metadata": {},
   "outputs": [],
   "source": []
  }
 ],
 "metadata": {
  "kernelspec": {
   "display_name": "Python 3 (ipykernel)",
   "language": "python",
   "name": "python3"
  },
  "language_info": {
   "codemirror_mode": {
    "name": "ipython",
    "version": 3
   },
   "file_extension": ".py",
   "mimetype": "text/x-python",
   "name": "python",
   "nbconvert_exporter": "python",
   "pygments_lexer": "ipython3",
   "version": "3.10.6"
  }
 },
 "nbformat": 4,
 "nbformat_minor": 5
}
