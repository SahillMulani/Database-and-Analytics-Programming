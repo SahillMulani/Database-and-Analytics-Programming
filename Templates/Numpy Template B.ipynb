{
 "cells": [
  {
   "cell_type": "markdown",
   "id": "0a4182bc",
   "metadata": {},
   "source": [
    "### 3. NumPy Exercise B\n",
    "\n",
    "- NOTE:\n",
    "* The AAPL.csv contains some stock price data for Apple.\n",
    "* The MSFT.csv contains some stock price data for Microsoft."
   ]
  },
  {
   "cell_type": "markdown",
   "id": "e6003dff",
   "metadata": {},
   "source": [
    "### Load data from AAPL.csv , col = 5 & 7"
   ]
  },
  {
   "cell_type": "code",
   "execution_count": null,
   "id": "927d5d2e",
   "metadata": {},
   "outputs": [],
   "source": [
    "close, volume = np.loadtxt('AAPL.csv', delimiter=',', usecols=(4,6), unpack=True, skiprows = 1)"
   ]
  },
  {
   "cell_type": "markdown",
   "id": "0c384c64",
   "metadata": {},
   "source": [
    "### Calculate the volume WEIGHTED AVERAGE price for the stock"
   ]
  },
  {
   "cell_type": "code",
   "execution_count": null,
   "id": "0c88337d",
   "metadata": {},
   "outputs": [],
   "source": [
    "vwap = np.average(close, weights = volume)"
   ]
  },
  {
   "cell_type": "markdown",
   "id": "44d54a5f",
   "metadata": {},
   "source": [
    "### Calculate the MEDIAN value of the closing prices . np.median( )"
   ]
  },
  {
   "cell_type": "code",
   "execution_count": null,
   "id": "c1847e16",
   "metadata": {},
   "outputs": [],
   "source": [
    "median = np.median(close)"
   ]
  },
  {
   "cell_type": "markdown",
   "id": "539b3c6e",
   "metadata": {},
   "source": [
    "### Calculate the VARIANCE value of the closing prices . np.var( ) "
   ]
  },
  {
   "cell_type": "code",
   "execution_count": null,
   "id": "5441b31b",
   "metadata": {},
   "outputs": [],
   "source": [
    "variance = np.var(close)"
   ]
  },
  {
   "cell_type": "markdown",
   "id": "4b1e1716",
   "metadata": {},
   "source": [
    "### Load data from AAPL.csv , col = 3 & 4"
   ]
  },
  {
   "cell_type": "code",
   "execution_count": null,
   "id": "452f3bf0",
   "metadata": {},
   "outputs": [],
   "source": [
    "High , Low = np.loadtxt('AAPL.csv', delimiter = ',', usecols=(2,3), unpack=True, skiprows = 1)"
   ]
  },
  {
   "cell_type": "markdown",
   "id": "bed3b546",
   "metadata": {},
   "source": [
    "### Use the MAX and MIN functions to get the highest high and the lowest low value"
   ]
  },
  {
   "cell_type": "code",
   "execution_count": null,
   "id": "db35f233",
   "metadata": {},
   "outputs": [],
   "source": [
    "highest = np.max(High)\n",
    "lowest = np.min(Low)\n",
    "\n",
    "print(\"Highest of High : \", highest)\n",
    "print(\"Lowest of Low : \", lowest)"
   ]
  },
  {
   "cell_type": "markdown",
   "id": "30d84e38",
   "metadata": {},
   "source": [
    "### Load data from column 5 of AAPL.csv & MSFT.csv.\n"
   ]
  },
  {
   "cell_type": "code",
   "execution_count": null,
   "id": "1e44c711",
   "metadata": {},
   "outputs": [],
   "source": [
    "close_AAPL = np.loadtxt('AAPL.csv', delimiter=',', usecols=(4), unpack=True, skiprows = 1)\n",
    "close_MSFT = np.loadtxt('MSFT.csv', delimiter=',', usecols=(4), unpack=True, skiprows = 1)"
   ]
  },
  {
   "cell_type": "markdown",
   "id": "f42aa7a5",
   "metadata": {},
   "source": [
    "### Calculate the COVARIANCE MATRIX of the closing prices of AAPL and MSFT "
   ]
  },
  {
   "cell_type": "code",
   "execution_count": null,
   "id": "5abe6880",
   "metadata": {},
   "outputs": [],
   "source": [
    "cov_mat = np.stack((close_AAPL, close_MSFT), axis = 0) \n",
    "covv = np.cov(cov_mat)"
   ]
  },
  {
   "cell_type": "markdown",
   "id": "f49f811d",
   "metadata": {},
   "source": [
    "### Calculate the CORELATION COEFFICIENT of the closing prices of AAPL and MSFT"
   ]
  },
  {
   "cell_type": "code",
   "execution_count": null,
   "id": "5562850c",
   "metadata": {},
   "outputs": [],
   "source": [
    "corr = np.corrcoef(close_AAPL,close_MSFT)"
   ]
  },
  {
   "cell_type": "markdown",
   "id": "6a08823d",
   "metadata": {},
   "source": [
    "### View the values on the DIAGONAL"
   ]
  },
  {
   "cell_type": "code",
   "execution_count": null,
   "id": "e0cee94c",
   "metadata": {},
   "outputs": [],
   "source": [
    "np.diag(covv)"
   ]
  }
 ],
 "metadata": {
  "kernelspec": {
   "display_name": "Python 3 (ipykernel)",
   "language": "python",
   "name": "python3"
  },
  "language_info": {
   "codemirror_mode": {
    "name": "ipython",
    "version": 3
   },
   "file_extension": ".py",
   "mimetype": "text/x-python",
   "name": "python",
   "nbconvert_exporter": "python",
   "pygments_lexer": "ipython3",
   "version": "3.10.6"
  }
 },
 "nbformat": 4,
 "nbformat_minor": 5
}
