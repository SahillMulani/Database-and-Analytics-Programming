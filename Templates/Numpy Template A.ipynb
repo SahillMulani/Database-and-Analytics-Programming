{
 "cells": [
  {
   "cell_type": "markdown",
   "id": "7b93df71",
   "metadata": {},
   "source": [
    "### NumPy Excercise "
   ]
  },
  {
   "cell_type": "code",
   "execution_count": 18,
   "id": "394a7308",
   "metadata": {},
   "outputs": [],
   "source": [
    "import numpy as np"
   ]
  },
  {
   "cell_type": "markdown",
   "id": "6ae351a3",
   "metadata": {},
   "source": [
    "### Numpy ARANGE Function  np.arange( )\n",
    "https://numpy.org/doc/stable/reference/generated/numpy.arange.html"
   ]
  },
  {
   "cell_type": "code",
   "execution_count": 19,
   "id": "693ace36",
   "metadata": {},
   "outputs": [],
   "source": [
    "a = np.arange(24)"
   ]
  },
  {
   "cell_type": "markdown",
   "id": "d79f7f6b",
   "metadata": {},
   "source": [
    "### RESHAPE Function  array_name.reshape( number of sub array, rows, columns )\n",
    "https://numpy.org/doc/stable/reference/generated/numpy.reshape.html"
   ]
  },
  {
   "cell_type": "code",
   "execution_count": 21,
   "id": "ebc48652",
   "metadata": {},
   "outputs": [],
   "source": [
    "r = a.reshape(2,3,4)"
   ]
  },
  {
   "cell_type": "markdown",
   "id": "d3b217f0",
   "metadata": {},
   "source": [
    "###  2nd column for both the first and second sets of rows and columns of data"
   ]
  },
  {
   "cell_type": "code",
   "execution_count": null,
   "id": "cd499697",
   "metadata": {},
   "outputs": [],
   "source": [
    "for i in range(0,2):\n",
    "    for j in range(len(a[0])):\n",
    "        print(a[i][j][1])"
   ]
  },
  {
   "cell_type": "markdown",
   "id": "49c5b89e",
   "metadata": {},
   "source": [
    "### RAVEL Function , np.ravel( ) . FLATENING the array\n",
    "https://numpy.org/doc/stable/reference/generated/numpy.ravel.html"
   ]
  },
  {
   "cell_type": "code",
   "execution_count": null,
   "id": "d6953a97",
   "metadata": {},
   "outputs": [],
   "source": [
    "a = np.ravel(a , order = 'c')"
   ]
  },
  {
   "cell_type": "markdown",
   "id": "bb7186ed",
   "metadata": {},
   "source": [
    "### TRANSPOSE Function , np.transpose( )  . ( Interchange rows and columns)\n",
    "https://numpy.org/doc/stable/reference/generated/numpy.transpose.html"
   ]
  },
  {
   "cell_type": "code",
   "execution_count": null,
   "id": "5d3a0709",
   "metadata": {},
   "outputs": [],
   "source": [
    "at = np.transpose(a)"
   ]
  },
  {
   "cell_type": "markdown",
   "id": "bc6db995",
   "metadata": {},
   "source": [
    "### RESTACK Transpose Data in REVERSE Order using row_stack( )\n",
    "https://numpy.org/doc/stable/reference/generated/numpy.row_stack.html"
   ]
  },
  {
   "cell_type": "code",
   "execution_count": null,
   "id": "7b92327f",
   "metadata": {},
   "outputs": [],
   "source": [
    "reversed_array = np.row_stack(reversed(at))"
   ]
  },
  {
   "cell_type": "markdown",
   "id": "13d73c64",
   "metadata": {},
   "source": [
    "### SPLIT Horizontally , np.hsplit( )\n",
    "https://numpy.org/doc/stable/reference/generated/numpy.hsplit.html"
   ]
  },
  {
   "cell_type": "code",
   "execution_count": null,
   "id": "b00b85f3",
   "metadata": {},
   "outputs": [],
   "source": [
    "splited_array = np.hsplit(reversed_array, 2)"
   ]
  }
 ],
 "metadata": {
  "kernelspec": {
   "display_name": "Python 3 (ipykernel)",
   "language": "python",
   "name": "python3"
  },
  "language_info": {
   "codemirror_mode": {
    "name": "ipython",
    "version": 3
   },
   "file_extension": ".py",
   "mimetype": "text/x-python",
   "name": "python",
   "nbconvert_exporter": "python",
   "pygments_lexer": "ipython3",
   "version": "3.10.6"
  }
 },
 "nbformat": 4,
 "nbformat_minor": 5
}
