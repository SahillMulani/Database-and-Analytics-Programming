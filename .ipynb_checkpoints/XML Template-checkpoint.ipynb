{
 "cells": [
  {
   "cell_type": "markdown",
   "id": "994dca61",
   "metadata": {},
   "source": [
    "### Reading XML File"
   ]
  },
  {
   "cell_type": "code",
   "execution_count": null,
   "id": "4f9c885d",
   "metadata": {},
   "outputs": [],
   "source": [
    "import xml.etree.ElementTree as ET\n",
    "\n",
    "filepath = \"Titanic.xml\"\n",
    "\n",
    "def read_xml_file(filepath):\n",
    "    try :\n",
    "        xmldata = open(filepath,'r')\n",
    "        xmltree = ET.fromstring(xmldata.read())\n",
    "        return xmltree\n",
    "    except FileNotFoundError:\n",
    "        print(f'File not found. Please check the file path :{filepath}')\n",
    "    except IOError:\n",
    "        print(f'An error occurred while trying to read the file: {filepath}\\nError: {e}')\n",
    "    finally :\n",
    "        xmldata.close()  \n",
    "\n",
    "xmltree = read_xml_file(filepath)"
   ]
  },
  {
   "cell_type": "markdown",
   "id": "4ee2b847",
   "metadata": {},
   "source": [
    "### Print data for given set of Values"
   ]
  },
  {
   "cell_type": "code",
   "execution_count": null,
   "id": "70adbc27",
   "metadata": {},
   "outputs": [],
   "source": [
    "def get_data(values, xmltree):\n",
    "    data = [ ]\n",
    "    for i in values :\n",
    "            Name = xmltree[i].find('Name').text\n",
    "            Sex = xmltree[i].find(\"Sex\").text\n",
    "            data.append( {\n",
    "                \"Name\" : Name,\n",
    "                \"Gender\" : Sex   \n",
    "            })\n",
    "    return data\n",
    "values = [2,3,4]\n",
    "get_data_result = get_data(values, xmltree)"
   ]
  },
  {
   "cell_type": "markdown",
   "id": "79b75ae6",
   "metadata": {},
   "source": [
    "### Print data for given condition"
   ]
  },
  {
   "cell_type": "code",
   "execution_count": null,
   "id": "5a3b88b4",
   "metadata": {},
   "outputs": [],
   "source": [
    "import xml.etree.ElementTree as ET\n",
    " \n",
    "# Passing the path of the xml document to enable the parsing process\n",
    "tree = ET.parse('Titanic.xml')\n",
    " \n",
    "# getting the root tag of xml element\n",
    "root = tree.getroot()\n",
    "\n",
    "def get_conditional_data(root):\n",
    "    data = [ ]\n",
    "    for child in root:\n",
    "        if \"Enter your Condition Here \":\n",
    "            Name = child.find('Name').text\n",
    "            Sex = child.find(\"Sex\").text\n",
    "            Cabin = child.find(\"Cabin\").text\n",
    "            Ticket = child.find(\"Ticket\").text\n",
    "            PassengerId = child.find(\"PassengerId\").text\n",
    "            data.append( {\n",
    "                \"Name\" : Name,\n",
    "                \"Gender\" : Sex,\n",
    "                \"Cabin\" : Cabin,\n",
    "                \"Ticket\" : Ticket,\n",
    "                \"PassengerId\" : PassengerId,\n",
    "            })\n",
    "    return data\n",
    "\n",
    "get_conditional_data_result = get_conditional_data(root)\n"
   ]
  },
  {
   "cell_type": "markdown",
   "id": "9ae8cb3e",
   "metadata": {},
   "source": [
    "###  Writing to CSV File"
   ]
  },
  {
   "cell_type": "code",
   "execution_count": null,
   "id": "389fe360",
   "metadata": {},
   "outputs": [],
   "source": [
    "import csv\n",
    "\n",
    "\n",
    "file_path = \"./Titanic.csv\"\n",
    "\n",
    "def write_to_csv(filepath, data):\n",
    "    try :\n",
    "        my_csv = open(file_path, 'w')\n",
    "        csvwriter = csv.writer(my_csv)\n",
    "        head = [  ] # Specify Column Names here\n",
    "        csvwriter.writerow(head)\n",
    "\n",
    "        for i in range(len(data)):\n",
    "            row = [ ]\n",
    "            #Specify the names of Keys of the data such as \"Name\",\"Gender\"\n",
    "            row.append(data[i][ ])\n",
    "            row.append(data[i][ ])\n",
    "            csvwriter.writerow(row)\n",
    "\n",
    "    except FileNotFoundError:\n",
    "        print(f'File not found. Please check the file path :{filepath}')\n",
    "    except IOError:\n",
    "        print(f'An error occurred while trying to read the file: {filepath}\\nError: {e}')\n",
    "    finally :\n",
    "        my_csv.close()\n",
    "        \n",
    "write_to_csv(filepath,get_data_result)"
   ]
  },
  {
   "cell_type": "code",
   "execution_count": null,
   "id": "7f71fa4d",
   "metadata": {},
   "outputs": [],
   "source": []
  },
  {
   "cell_type": "code",
   "execution_count": null,
   "id": "95aec009",
   "metadata": {},
   "outputs": [],
   "source": []
  },
  {
   "cell_type": "code",
   "execution_count": null,
   "id": "d236adac",
   "metadata": {},
   "outputs": [],
   "source": []
  }
 ],
 "metadata": {
  "kernelspec": {
   "display_name": "Python 3 (ipykernel)",
   "language": "python",
   "name": "python3"
  },
  "language_info": {
   "codemirror_mode": {
    "name": "ipython",
    "version": 3
   },
   "file_extension": ".py",
   "mimetype": "text/x-python",
   "name": "python",
   "nbconvert_exporter": "python",
   "pygments_lexer": "ipython3",
   "version": "3.10.6"
  }
 },
 "nbformat": 4,
 "nbformat_minor": 5
}
