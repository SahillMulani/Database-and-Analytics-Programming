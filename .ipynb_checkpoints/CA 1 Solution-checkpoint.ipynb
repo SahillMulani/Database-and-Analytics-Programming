{
 "cells": [
  {
   "cell_type": "markdown",
   "id": "934dacc3",
   "metadata": {},
   "source": [
    "### Question 1 (55 marks)\n",
    "\n",
    "The Northwind data set, provided in XML format on Moodle, includes details of employees, customers,\n",
    "products and sales for a fictitious company.\n",
    "\n",
    "- (a) Create a function to import this XML file. Your function must include appropriate exception\n",
    "    handling clauses covering all possible error conditions and should return the parsed contents of the\n",
    "    XML file. [15 marks]  \n",
    "    \n",
    "- (b) Using the function you created in a) above, load the XML file. Then use the print() function to\n",
    "    display the ProductName and UnitPrice for the second, fourth, sixth, eighth and tenth products.\n",
    "    Hint: the range() function might come in useful here! [15 marks]\n"
   ]
  },
  {
   "cell_type": "code",
   "execution_count": 2,
   "id": "31b98351",
   "metadata": {},
   "outputs": [],
   "source": [
    "# import xml lib\n",
    "import xml.etree.cElementTree as ET\n",
    "import pandas as pd\n",
    "\n",
    "# parse xml file in the tree format\n",
    "tree = ET.parse('NorthWind.xml')\n",
    "\n",
    "#load the root of the tree i.e <northwind>\n",
    "root = tree.getroot()\n",
    "\n",
    "# As mentioned in b we have to print for no: 2,4,6,8 and 10 products\n",
    "mylist = [2,4,6,8,10]\n",
    "\n",
    "\n",
    "def get_elements(root):\n",
    "    for child in root :\n",
    "        if child.tag == 'Products':\n",
    "            for grandchild in child:\n",
    "                product_id = int(grandchild.get('ProductID'))\n",
    "                if product_id in mylist:\n",
    "                    print(\"Product ID : \", product_id)\n",
    "                    print(\"Product Name : \", grandchild.find('ProductName').text)\n",
    "                    print(\"Unit Price :\", grandchild.find('UnitPrice').text)\n",
    "\n",
    "    "
   ]
  },
  {
   "cell_type": "markdown",
   "id": "e74922e0",
   "metadata": {},
   "source": [
    "- (c) Extract all the following fields or attributes for all customers who live in Mexico and save them to a\n",
    "    CSV file:\n",
    "    • CustomerID\n",
    "    • CompanyName\n",
    "    • ContactName\n",
    "    • City\n",
    "    • PostalCode\n",
    "    Your code should contain appropriate exception handling clauses and the exported CSV file should\n",
    "    contain the column names. "
   ]
  },
  {
   "cell_type": "code",
   "execution_count": 17,
   "id": "d5d4d01e",
   "metadata": {},
   "outputs": [],
   "source": [
    "data = [ ]\n",
    "for child in root :\n",
    "        if child.tag == 'Customers':\n",
    "            for grandchild in child:\n",
    "                if grandchild.find('Country').text == 'Mexico':\n",
    "                        CustomerID =  grandchild.get('CustomerID')\n",
    "                        CompanyName  =  grandchild.find('CompanyName').text\n",
    "                        ContactName = grandchild.find('ContactName').text\n",
    "                        City        = grandchild.find('City').text\n",
    "                        PostalCode  = grandchild.find('PostalCode').text\n",
    "                        new_data = [CustomerID , CompanyName, ContactName , City, PostalCode]\n",
    "                        data.append(new_data)\n",
    "                    "
   ]
  },
  {
   "cell_type": "code",
   "execution_count": 12,
   "id": "9b4e40be",
   "metadata": {},
   "outputs": [],
   "source": [
    "df = pd.DataFrame(data = data , columns=[\"CustomerID\",\"CompanyName\",\"ContactName\",\"City\",\"PostalCode\"])"
   ]
  },
  {
   "cell_type": "code",
   "execution_count": 13,
   "id": "1af51d62",
   "metadata": {},
   "outputs": [
    {
     "data": {
      "text/html": [
       "<div>\n",
       "<style scoped>\n",
       "    .dataframe tbody tr th:only-of-type {\n",
       "        vertical-align: middle;\n",
       "    }\n",
       "\n",
       "    .dataframe tbody tr th {\n",
       "        vertical-align: top;\n",
       "    }\n",
       "\n",
       "    .dataframe thead th {\n",
       "        text-align: right;\n",
       "    }\n",
       "</style>\n",
       "<table border=\"1\" class=\"dataframe\">\n",
       "  <thead>\n",
       "    <tr style=\"text-align: right;\">\n",
       "      <th></th>\n",
       "      <th>CustomerID</th>\n",
       "      <th>CompanyName</th>\n",
       "      <th>ContactName</th>\n",
       "      <th>City</th>\n",
       "      <th>PostalCode</th>\n",
       "    </tr>\n",
       "  </thead>\n",
       "  <tbody>\n",
       "    <tr>\n",
       "      <th>0</th>\n",
       "      <td>ANATR</td>\n",
       "      <td>Ana Trujillo Emparedados y helados</td>\n",
       "      <td>Ana Trujillo</td>\n",
       "      <td>México D.F.</td>\n",
       "      <td>05021</td>\n",
       "    </tr>\n",
       "    <tr>\n",
       "      <th>1</th>\n",
       "      <td>ANTON</td>\n",
       "      <td>Antonio Moreno Taquería</td>\n",
       "      <td>Antonio Moreno</td>\n",
       "      <td>México D.F.</td>\n",
       "      <td>05023</td>\n",
       "    </tr>\n",
       "    <tr>\n",
       "      <th>2</th>\n",
       "      <td>CENTC</td>\n",
       "      <td>Centro comercial Moctezuma</td>\n",
       "      <td>Francisco Chang</td>\n",
       "      <td>México D.F.</td>\n",
       "      <td>05022</td>\n",
       "    </tr>\n",
       "    <tr>\n",
       "      <th>3</th>\n",
       "      <td>PERIC</td>\n",
       "      <td>Pericles Comidas clásicas</td>\n",
       "      <td>Guillermo Fernández</td>\n",
       "      <td>México D.F.</td>\n",
       "      <td>05033</td>\n",
       "    </tr>\n",
       "    <tr>\n",
       "      <th>4</th>\n",
       "      <td>TORTU</td>\n",
       "      <td>Tortuga Restaurante</td>\n",
       "      <td>Miguel Angel Paolino</td>\n",
       "      <td>México D.F.</td>\n",
       "      <td>05033</td>\n",
       "    </tr>\n",
       "  </tbody>\n",
       "</table>\n",
       "</div>"
      ],
      "text/plain": [
       "  CustomerID                         CompanyName           ContactName  \\\n",
       "0      ANATR  Ana Trujillo Emparedados y helados          Ana Trujillo   \n",
       "1      ANTON             Antonio Moreno Taquería        Antonio Moreno   \n",
       "2      CENTC          Centro comercial Moctezuma       Francisco Chang   \n",
       "3      PERIC           Pericles Comidas clásicas   Guillermo Fernández   \n",
       "4      TORTU                 Tortuga Restaurante  Miguel Angel Paolino   \n",
       "\n",
       "          City PostalCode  \n",
       "0  México D.F.      05021  \n",
       "1  México D.F.      05023  \n",
       "2  México D.F.      05022  \n",
       "3  México D.F.      05033  \n",
       "4  México D.F.      05033  "
      ]
     },
     "execution_count": 13,
     "metadata": {},
     "output_type": "execute_result"
    }
   ],
   "source": [
    "df"
   ]
  },
  {
   "cell_type": "code",
   "execution_count": 16,
   "id": "41ac556d",
   "metadata": {},
   "outputs": [],
   "source": [
    "df.to_csv(\"CustomerDetials.csv\")"
   ]
  },
  {
   "cell_type": "markdown",
   "id": "f2bf40b0",
   "metadata": {},
   "source": [
    "### Question 2 (25 marks)"
   ]
  },
  {
   "cell_type": "markdown",
   "id": "91819b45",
   "metadata": {},
   "source": [
    "- (a) Create a NumPy ndarray containing all even numbers between 200 and 799. [5 marks]"
   ]
  },
  {
   "cell_type": "code",
   "execution_count": 44,
   "id": "b94ea1ba",
   "metadata": {},
   "outputs": [
    {
     "data": {
      "text/plain": [
       "numpy.ndarray"
      ]
     },
     "execution_count": 44,
     "metadata": {},
     "output_type": "execute_result"
    }
   ],
   "source": [
    "import numpy as np\n",
    "\n",
    "arr = np.array([])\n",
    "\n",
    "type(arr)"
   ]
  },
  {
   "cell_type": "code",
   "execution_count": 45,
   "id": "924aeecd",
   "metadata": {},
   "outputs": [],
   "source": [
    "for i in range(200,799):\n",
    "    if  i % 2 == 0 :\n",
    "        arr = np.append(arr,i)\n"
   ]
  },
  {
   "cell_type": "markdown",
   "id": "becb7ba3",
   "metadata": {},
   "source": [
    "- (b) Modify the array so that it becomes a 2-D array containing 25 rows and 12 columns. [5 marks]"
   ]
  },
  {
   "cell_type": "code",
   "execution_count": 46,
   "id": "1955a043",
   "metadata": {},
   "outputs": [],
   "source": [
    "arr = arr.reshape(25,12)"
   ]
  },
  {
   "cell_type": "markdown",
   "id": "457cfd76",
   "metadata": {},
   "source": [
    "- (c) Using indexing and slicing, select all data from the third and fourth columns. [5 marks]"
   ]
  },
  {
   "cell_type": "code",
   "execution_count": 47,
   "id": "ef736461",
   "metadata": {},
   "outputs": [
    {
     "name": "stdout",
     "output_type": "stream",
     "text": [
      "[206. 230. 254. 278. 302. 326. 350. 374. 398. 422. 446. 470. 494. 518.\n",
      " 542. 566. 590. 614. 638. 662. 686. 710. 734. 758. 782.] [208. 232. 256. 280. 304. 328. 352. 376. 400. 424. 448. 472. 496. 520.\n",
      " 544. 568. 592. 616. 640. 664. 688. 712. 736. 760. 784.]\n"
     ]
    }
   ],
   "source": [
    "print(arr[:,3] , arr[:,4])"
   ]
  },
  {
   "cell_type": "markdown",
   "id": "250f859c",
   "metadata": {},
   "source": [
    "- (d) Using an appropriate function, split the array into 4 arrays column-wise. [5 marks]"
   ]
  },
  {
   "cell_type": "code",
   "execution_count": 52,
   "id": "b2a91dcc",
   "metadata": {},
   "outputs": [],
   "source": [
    "splited_arr = np.hsplit(arr,4)"
   ]
  },
  {
   "cell_type": "markdown",
   "id": "398f4c31",
   "metadata": {},
   "source": [
    "- (e) On the first of the split arrays, sum up the row values for the 1st and 3rd columns. [5 marks]\n"
   ]
  },
  {
   "cell_type": "code",
   "execution_count": 60,
   "id": "daca855b",
   "metadata": {},
   "outputs": [
    {
     "name": "stdout",
     "output_type": "stream",
     "text": [
      "Sum of 1st row values  678.0\n",
      "Sum of 3rd row values  822.0\n"
     ]
    }
   ],
   "source": [
    "sum_1 = 0\n",
    "sum_3 = 0\n",
    "for i in range(len(splited_arr[0][1])):\n",
    "    sum_1 += splited_arr[0][1][i]\n",
    "    sum_3 += splited_arr[0][3][i]\n",
    "\n",
    "print(\"Sum of 1st row values \", sum_1)\n",
    "print(\"Sum of 3rd row values \", sum_3)"
   ]
  },
  {
   "cell_type": "markdown",
   "id": "984f2a2e",
   "metadata": {},
   "source": [
    "### Question 3 (20 marks)\n"
   ]
  },
  {
   "cell_type": "markdown",
   "id": "8b51d3a8",
   "metadata": {},
   "source": [
    "### Given the following string:\n",
    "\n",
    "`Betty Botter bought some butter\n",
    "But she said the butter’s bitter\n",
    "If I put it in my batter, it will make my batter bitter\n",
    "But a bit of better butter will make my batter better\n",
    "So ‘twas better Betty Botter bought a bit of better butter\n",
    "`\n"
   ]
  },
  {
   "cell_type": "markdown",
   "id": "73cad34b",
   "metadata": {},
   "source": [
    "- (a) Using regular expressions, write a single function to highlight the words “batter” and “bitter” if\n",
    "    they appear anywhere in a line. [10 marks]\n",
    "    \n",
    "    The text produced by your code look like this:\n",
    "`Betty Botter bought some butter\n",
    "But she said the butter’s {bitter}\n",
    "If I put it in my {batter}, it will make my {batter} {bitter}\n",
    "But a bit of better butter will make my {batter} better\n",
    "So ‘twas better Betty Botter bought a bit of better butter`"
   ]
  },
  {
   "cell_type": "code",
   "execution_count": 66,
   "id": "398f179b",
   "metadata": {},
   "outputs": [
    {
     "name": "stdout",
     "output_type": "stream",
     "text": [
      "Betty Botter bought some butter But she said the butter’s {bitter} If I put it in my {batter}, it will make my {batter} {bitter} But a bit of better butter will make my {batter} betterSo ‘twas better Betty Botter bought a bit of better butter \n"
     ]
    }
   ],
   "source": [
    "import re\n",
    "\n",
    "text = \"Betty Botter bought some butter But she said the butter’s bitter If I put it in my batter, it will make my batter bitter But a bit of better butter will make my batter betterSo ‘twas better Betty Botter bought a bit of better butter \"\n",
    "\n",
    "def regx_function(text):\n",
    "    pattern = r'\\b(batter|bitter)\\b'\n",
    "    result = re.sub(pattern, r'{\\1}', text)\n",
    "    return result\n",
    "\n",
    "print(regx_function(text))"
   ]
  },
  {
   "cell_type": "markdown",
   "id": "e4152d22",
   "metadata": {},
   "source": [
    "- b) Write a function that uses regular expressions to extract all the numeric digits and returns them as a list. "
   ]
  },
  {
   "cell_type": "code",
   "execution_count": 68,
   "id": "1e694457",
   "metadata": {},
   "outputs": [
    {
     "name": "stdout",
     "output_type": "stream",
     "text": [
      "['19', '99', '29', '50', '15', '00', '2', '1']\n"
     ]
    }
   ],
   "source": [
    "import re\n",
    "\n",
    "text = \"The price of item A is $19.99, item B is $29.50, and item C is $15.00. Don't forget to check out our special offer: Buy 2, get 1 free!\"\n",
    "\n",
    "def regx_function(text):\n",
    "    pattern = r'\\d+'\n",
    "    result = re.findall(pattern,text)\n",
    "    return result\n",
    "\n",
    "print(regx_function(text))\n"
   ]
  }
 ],
 "metadata": {
  "kernelspec": {
   "display_name": "Python 3 (ipykernel)",
   "language": "python",
   "name": "python3"
  },
  "language_info": {
   "codemirror_mode": {
    "name": "ipython",
    "version": 3
   },
   "file_extension": ".py",
   "mimetype": "text/x-python",
   "name": "python",
   "nbconvert_exporter": "python",
   "pygments_lexer": "ipython3",
   "version": "3.10.6"
  }
 },
 "nbformat": 4,
 "nbformat_minor": 5
}
