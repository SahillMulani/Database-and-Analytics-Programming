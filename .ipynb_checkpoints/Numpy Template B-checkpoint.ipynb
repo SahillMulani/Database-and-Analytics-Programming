{
 "cells": [
  {
   "cell_type": "markdown",
   "id": "f34a97e9",
   "metadata": {},
   "source": [
    "### 3. NumPy Exercise B\n",
    "\n",
    "- NOTE:\n",
    "* The AAPL.csv contains some stock price data for Apple.\n",
    "* The MSFT.csv contains some stock price data for Microsoft."
   ]
  },
  {
   "cell_type": "markdown",
   "id": "2239cafc",
   "metadata": {},
   "source": [
    "### Load data from AAPL.csv , col = 5 & 7"
   ]
  },
  {
   "cell_type": "code",
   "execution_count": null,
   "id": "f110489d",
   "metadata": {},
   "outputs": [],
   "source": [
    "close, volume = np.loadtxt('AAPL.csv', delimiter=',', usecols=(4,6), unpack=True, skiprows = 1)"
   ]
  },
  {
   "cell_type": "markdown",
   "id": "aaeba711",
   "metadata": {},
   "source": [
    "### Calculate the volume WEIGHTED AVERAGE price for the stock"
   ]
  },
  {
   "cell_type": "code",
   "execution_count": null,
   "id": "cf1433f1",
   "metadata": {},
   "outputs": [],
   "source": [
    "vwap = np.average(close, weights = volume)"
   ]
  },
  {
   "cell_type": "markdown",
   "id": "921320e9",
   "metadata": {},
   "source": [
    "### Calculate the MEDIAN value of the closing prices . np.median( )"
   ]
  },
  {
   "cell_type": "code",
   "execution_count": null,
   "id": "daa2d826",
   "metadata": {},
   "outputs": [],
   "source": [
    "median = np.median(close)"
   ]
  },
  {
   "cell_type": "markdown",
   "id": "36b53102",
   "metadata": {},
   "source": [
    "### Calculate the VARIANCE value of the closing prices . np.var( ) "
   ]
  },
  {
   "cell_type": "code",
   "execution_count": null,
   "id": "c01e6cb6",
   "metadata": {},
   "outputs": [],
   "source": [
    "variance = np.var(close)"
   ]
  },
  {
   "cell_type": "markdown",
   "id": "95d9b65f",
   "metadata": {},
   "source": [
    "### Load data from AAPL.csv , col = 3 & 4"
   ]
  },
  {
   "cell_type": "code",
   "execution_count": null,
   "id": "dad603a6",
   "metadata": {},
   "outputs": [],
   "source": [
    "High , Low = np.loadtxt('AAPL.csv', delimiter = ',', usecols=(2,3), unpack=True, skiprows = 1)"
   ]
  },
  {
   "cell_type": "markdown",
   "id": "a30c6dfe",
   "metadata": {},
   "source": [
    "### Use the MAX and MIN functions to get the highest high and the lowest low value"
   ]
  },
  {
   "cell_type": "code",
   "execution_count": null,
   "id": "d6878d07",
   "metadata": {},
   "outputs": [],
   "source": [
    "highest = np.max(High)\n",
    "lowest = np.min(Low)\n",
    "\n",
    "print(\"Highest of High : \", highest)\n",
    "print(\"Lowest of Low : \", lowest)"
   ]
  },
  {
   "cell_type": "markdown",
   "id": "d93c823c",
   "metadata": {},
   "source": [
    "### Load data from column 5 of AAPL.csv & MSFT.csv.\n"
   ]
  },
  {
   "cell_type": "code",
   "execution_count": null,
   "id": "ae99a7e5",
   "metadata": {},
   "outputs": [],
   "source": [
    "close_AAPL = np.loadtxt('AAPL.csv', delimiter=',', usecols=(4), unpack=True, skiprows = 1)\n",
    "close_MSFT = np.loadtxt('MSFT.csv', delimiter=',', usecols=(4), unpack=True, skiprows = 1)"
   ]
  },
  {
   "cell_type": "markdown",
   "id": "b906fb11",
   "metadata": {},
   "source": [
    "### Calculate the COVARIANCE MATRIX of the closing prices of AAPL and MSFT "
   ]
  },
  {
   "cell_type": "code",
   "execution_count": null,
   "id": "5edf7706",
   "metadata": {},
   "outputs": [],
   "source": [
    "cov_mat = np.stack((close_AAPL, close_MSFT), axis = 0) \n",
    "covv = np.cov(cov_mat)"
   ]
  },
  {
   "cell_type": "markdown",
   "id": "b99aedca",
   "metadata": {},
   "source": [
    "### Calculate the CORELATION COEFFICIENT of the closing prices of AAPL and MSFT"
   ]
  },
  {
   "cell_type": "code",
   "execution_count": null,
   "id": "5ae0ba30",
   "metadata": {},
   "outputs": [],
   "source": [
    "corr = np.corrcoef(close_AAPL,close_MSFT)"
   ]
  }
 ],
 "metadata": {
  "kernelspec": {
   "display_name": "Python 3 (ipykernel)",
   "language": "python",
   "name": "python3"
  },
  "language_info": {
   "codemirror_mode": {
    "name": "ipython",
    "version": 3
   },
   "file_extension": ".py",
   "mimetype": "text/x-python",
   "name": "python",
   "nbconvert_exporter": "python",
   "pygments_lexer": "ipython3",
   "version": "3.10.6"
  }
 },
 "nbformat": 4,
 "nbformat_minor": 5
}
