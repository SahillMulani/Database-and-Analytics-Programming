{
 "cells": [
  {
   "cell_type": "markdown",
   "id": "c812e3b9",
   "metadata": {},
   "source": [
    "## LAB 2 Solutions"
   ]
  },
  {
   "cell_type": "markdown",
   "id": "b5306d61",
   "metadata": {},
   "source": [
    "### 1) Using the type function, determine the datatype of the following literal values:\n",
    "a) 'a'\n",
    "b) 'abcd'\n",
    "c) u'abcd'\n",
    "d) \"x\"\n",
    "e) \"yz\"\n",
    "f) 122\n",
    "g) 02\n",
    "h) 09\n",
    "i) 0x2\n",
    "j) True\n",
    "k) true\n",
    "l) (1, 2)\n",
    "m) [\"1\", 2]\n",
    "n) {123: \"abc\", 345: \"alive\"}\n"
   ]
  },
  {
   "cell_type": "code",
   "execution_count": 2,
   "id": "fe3e7f92",
   "metadata": {},
   "outputs": [
    {
     "name": "stdout",
     "output_type": "stream",
     "text": [
      "a  Data type :  <class 'str'>\n",
      "abcd  Data type :  <class 'str'>\n",
      "abcd  Data type :  <class 'str'>\n",
      "x  Data type :  <class 'str'>\n",
      "yz  Data type :  <class 'str'>\n",
      "122  Data type :  <class 'int'>\n",
      "2  Data type :  <class 'int'>\n",
      "9  Data type :  <class 'int'>\n",
      "2  Data type :  <class 'int'>\n",
      "True  Data type :  <class 'bool'>\n",
      "False  Data type :  <class 'bool'>\n",
      "(1, 2)  Data type :  <class 'tuple'>\n",
      "['1', 2]  Data type :  <class 'list'>\n",
      "{123: 'abc', 345: 'alive'}  Data type :  <class 'dict'>\n"
     ]
    }
   ],
   "source": [
    "my_list = ['a', 'abcd', u'abcd', \"x\", \"yz\", 122, 2, 9, 0x2, True, False, (1, 2), [\"1\", 2], {123: \"abc\", 345: \"alive\"}]\n",
    "\n",
    "for i in my_list:\n",
    "    print(i , \" Data type : \", type(i))\n"
   ]
  },
  {
   "cell_type": "markdown",
   "id": "58b983e3",
   "metadata": {},
   "source": [
    "### 2) Investigate the use of the id function. Enter the following and note the return value in each case. Are the return values equal or unequal? If they are equal, then why is this the case?\n",
    "\n",
    "` x = \"a\"\n",
    "y = \"a\"\n",
    "print(id(x))\n",
    "print(id(y))\n",
    "x = \"another string\"\n",
    "y = \"another string\"\n",
    "print(id(x))\n",
    "print(id(y)) `"
   ]
  },
  {
   "cell_type": "code",
   "execution_count": 3,
   "id": "c6cdb5ff",
   "metadata": {},
   "outputs": [
    {
     "name": "stdout",
     "output_type": "stream",
     "text": [
      "2201700966320\n",
      "2201700966320\n",
      "2201780726064\n",
      "2201780721520\n"
     ]
    }
   ],
   "source": [
    "x = \"a\"\n",
    "y = \"a\"\n",
    "print(id(x))\n",
    "print(id(y))\n",
    "\n",
    "x = \"another string\"\n",
    "y = \"another string\"\n",
    "print(id(x))\n",
    "print(id(y))"
   ]
  },
  {
   "cell_type": "markdown",
   "id": "d6805523",
   "metadata": {},
   "source": [
    "### 3) Create a list to store the following values: 1, 2, 3, 4, 5, 6 and assign this\n",
    "- list to a variable called myList .\n",
    "- Print the contents myList .\n",
    "- Print the contents of myList in reverse using index slicing.\n",
    "- Print the contents of myList in reverse using a loop.\n",
    "- Append 10 random integers to myList using a loop.\n",
    "- Extend myList with the following list [200, 300] .\n",
    "- Store the last number in the list in a variable called lastVal and remove that value from myList . [Note: for this task you should investigate using the pop()\n",
    "method.]\n"
   ]
  },
  {
   "cell_type": "code",
   "execution_count": 38,
   "id": "d5739c56",
   "metadata": {},
   "outputs": [
    {
     "name": "stdout",
     "output_type": "stream",
     "text": [
      "[6, 5, 4, 3, 2, 1]\n",
      "6 5 4 3 2 1 "
     ]
    }
   ],
   "source": [
    "my_list = [1, 2, 3, 4, 5, 6]\n",
    "\n",
    "# Reverse list using index slicing \n",
    "print(my_list[::-1])\n",
    "\n",
    "for i in reversed(range(len(my_list))):\n",
    "    print(my_list[i] , end = \" \")"
   ]
  },
  {
   "cell_type": "code",
   "execution_count": 48,
   "id": "0450ce14",
   "metadata": {},
   "outputs": [
    {
     "data": {
      "text/plain": [
       "[2, 1, 3, 0, 6, 8, 6, 10, 6, 7, 200, 300]"
      ]
     },
     "execution_count": 48,
     "metadata": {},
     "output_type": "execute_result"
    }
   ],
   "source": [
    "# Generating 10 random variables\n",
    "import random\n",
    "\n",
    "my_list = [ ]\n",
    "\n",
    "for i in range(0,10):\n",
    "    n = random.randint(0,10)\n",
    "    my_list.append(n)\n",
    "    \n",
    "\n",
    "\n",
    "another_list = [200,300]\n",
    "\n",
    "my_list.extend(another_list)\n",
    "\n",
    "my_list"
   ]
  },
  {
   "cell_type": "code",
   "execution_count": 50,
   "id": "3f970a7d",
   "metadata": {},
   "outputs": [
    {
     "data": {
      "text/plain": [
       "300"
      ]
     },
     "execution_count": 50,
     "metadata": {},
     "output_type": "execute_result"
    }
   ],
   "source": [
    "lastVal = my_list.pop()\n",
    "lastVal"
   ]
  },
  {
   "cell_type": "code",
   "execution_count": 53,
   "id": "05b51a3d",
   "metadata": {},
   "outputs": [],
   "source": [
    "\n",
    "statesAndCapitals = {\n",
    "    'Gujarat': 'Gandhinagar',\n",
    "    'Maharashtra': 'Mumbai',\n",
    "    'Rajasthan': 'Jaipur',\n",
    "    'Bihar': 'Patna'\n",
    "}\n",
    "\n",
    "statesAndCapitals['Gujarat'] = 'Pune'"
   ]
  },
  {
   "cell_type": "code",
   "execution_count": 54,
   "id": "e193fe31",
   "metadata": {},
   "outputs": [
    {
     "data": {
      "text/plain": [
       "'Pune'"
      ]
     },
     "execution_count": 54,
     "metadata": {},
     "output_type": "execute_result"
    }
   ],
   "source": [
    "statesAndCapitals['Gujarat']"
   ]
  },
  {
   "cell_type": "markdown",
   "id": "9cc847e0",
   "metadata": {},
   "source": [
    "### 4) Create an empty dictionary object called myDict . Using a loop structure, add an entry to myDict for each value in myList . The key values for entries in myDict should be integer values commencing at 0 ."
   ]
  },
  {
   "cell_type": "code",
   "execution_count": 57,
   "id": "8ab8a320",
   "metadata": {},
   "outputs": [],
   "source": [
    "mydict = { }\n",
    "for i in range(len(my_list)):\n",
    "    mydict[i] = my_list[i]"
   ]
  },
  {
   "cell_type": "code",
   "execution_count": 58,
   "id": "86cb9a95",
   "metadata": {},
   "outputs": [
    {
     "data": {
      "text/plain": [
       "{0: 2, 1: 1, 2: 3, 3: 0, 4: 6, 5: 8, 6: 6, 7: 10, 8: 6, 9: 7, 10: 200}"
      ]
     },
     "execution_count": 58,
     "metadata": {},
     "output_type": "execute_result"
    }
   ],
   "source": [
    "mydict"
   ]
  },
  {
   "cell_type": "markdown",
   "id": "fc6b45c5",
   "metadata": {},
   "source": [
    "### Pascal's Triangle"
   ]
  },
  {
   "cell_type": "code",
   "execution_count": 77,
   "id": "b61cf079",
   "metadata": {},
   "outputs": [],
   "source": [
    "def PascalsTriangle(n):\n",
    "    \n",
    "    for i in range(0,n):\n",
    "        print(\" \")\n",
    "        for j in range(0,i+1):\n",
    "            print(j ,\"\\t\", end = \" \")"
   ]
  },
  {
   "cell_type": "code",
   "execution_count": 79,
   "id": "67215435",
   "metadata": {},
   "outputs": [
    {
     "name": "stdout",
     "output_type": "stream",
     "text": [
      " \n",
      "0 \t  \n",
      "0 \t 1 \t  \n",
      "0 \t 1 \t 2 \t  \n",
      "0 \t 1 \t 2 \t 3 \t  \n",
      "0 \t 1 \t 2 \t 3 \t 4 \t  \n",
      "0 \t 1 \t 2 \t 3 \t 4 \t 5 \t  \n",
      "0 \t 1 \t 2 \t 3 \t 4 \t 5 \t 6 \t  \n",
      "0 \t 1 \t 2 \t 3 \t 4 \t 5 \t 6 \t 7 \t  \n",
      "0 \t 1 \t 2 \t 3 \t 4 \t 5 \t 6 \t 7 \t 8 \t  \n",
      "0 \t 1 \t 2 \t 3 \t 4 \t 5 \t 6 \t 7 \t 8 \t 9 \t "
     ]
    }
   ],
   "source": [
    "PascalsTriangle(10)"
   ]
  },
  {
   "cell_type": "code",
   "execution_count": null,
   "id": "783c7ada",
   "metadata": {},
   "outputs": [],
   "source": []
  },
  {
   "cell_type": "code",
   "execution_count": null,
   "id": "eed09adb",
   "metadata": {},
   "outputs": [],
   "source": []
  },
  {
   "cell_type": "code",
   "execution_count": null,
   "id": "ced70a98",
   "metadata": {},
   "outputs": [],
   "source": []
  },
  {
   "cell_type": "code",
   "execution_count": null,
   "id": "91bab740",
   "metadata": {},
   "outputs": [],
   "source": []
  }
 ],
 "metadata": {
  "kernelspec": {
   "display_name": "Python 3 (ipykernel)",
   "language": "python",
   "name": "python3"
  },
  "language_info": {
   "codemirror_mode": {
    "name": "ipython",
    "version": 3
   },
   "file_extension": ".py",
   "mimetype": "text/x-python",
   "name": "python",
   "nbconvert_exporter": "python",
   "pygments_lexer": "ipython3",
   "version": "3.10.6"
  }
 },
 "nbformat": 4,
 "nbformat_minor": 5
}
