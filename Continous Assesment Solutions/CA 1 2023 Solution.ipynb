{
 "cells": [
  {
   "cell_type": "markdown",
   "id": "0ec8a850",
   "metadata": {},
   "source": [
    "## Task 1|"
   ]
  },
  {
   "cell_type": "code",
   "execution_count": 30,
   "id": "41015ad8",
   "metadata": {},
   "outputs": [],
   "source": [
    "import xml.etree.ElementTree as ET\n",
    "import csv\n"
   ]
  },
  {
   "cell_type": "code",
   "execution_count": 31,
   "id": "4f2090ed",
   "metadata": {},
   "outputs": [],
   "source": [
    "xmldata = open(\"Titanic.xml\",'r')\n",
    "xmltree = ET.fromstring(xmldata.read())\n",
    "\n",
    "values = [ 2 , 4 , 8, 16 , 32]\n",
    "\n",
    "data = [ ]\n",
    "for i in values :\n",
    "        Name = xmltree[i].find('Name').text\n",
    "        Sex = xmltree[i].find(\"Sex\").text\n",
    "        data.append( {\n",
    "            \"Name\" : Name,\n",
    "            \"Gender\" : Sex   \n",
    "        })"
   ]
  },
  {
   "cell_type": "code",
   "execution_count": 37,
   "id": "a2644777",
   "metadata": {},
   "outputs": [],
   "source": [
    "file_path = \"./Titanic.csv\"\n",
    "\n",
    "try :\n",
    "    my_csv = open(file_path, 'w')\n",
    "    csvwriter = csv.writer(my_csv)\n",
    "    head = [\"Name\", \"Gender\"]\n",
    "    csvwriter.writerow(head)\n",
    "    \n",
    "    for i in range(len(data)):\n",
    "        row = [ ]\n",
    "        row.append(data[i][\"Name\"])\n",
    "        row.append(data[i][\"Gender\"])\n",
    "        csvwriter.writerow(row)\n",
    "        \n",
    "except FileNotFoundError:\n",
    "    print('Could not open the file:'.format(file_path))\n",
    "except IOError:\n",
    "    print('Could not write to the file:'.format(file_path))\n",
    "finally :\n",
    "    my_csv.close()"
   ]
  },
  {
   "cell_type": "code",
   "execution_count": null,
   "id": "e24082d7",
   "metadata": {},
   "outputs": [],
   "source": []
  },
  {
   "cell_type": "code",
   "execution_count": 39,
   "id": "645df8d9",
   "metadata": {},
   "outputs": [],
   "source": [
    "data = [ ]\n",
    "for child in root:\n",
    "    if child.find('Age').text is not None and float(child.find('Age').text) < 30.0 and child.find('Pclass').text in ['1','2']:\n",
    "        Name = child.find('Name').text\n",
    "        Sex = child.find(\"Sex\").text\n",
    "        Cabin = child.find(\"Cabin\").text\n",
    "        Ticket = child.find(\"Ticket\").text\n",
    "        PassengerId = child.find(\"PassengerId\").text\n",
    "        data.append( {\n",
    "            \"Name\" : Name,\n",
    "            \"Gender\" : Sex,\n",
    "            \"Cabin\" : Cabin,\n",
    "            \"Ticket\" : Ticket,\n",
    "            \"PassengerId\" : PassengerId,\n",
    "        })\n"
   ]
  },
  {
   "cell_type": "code",
   "execution_count": null,
   "id": "5f0cd88f",
   "metadata": {},
   "outputs": [],
   "source": []
  },
  {
   "cell_type": "code",
   "execution_count": 40,
   "id": "07de5de9",
   "metadata": {},
   "outputs": [],
   "source": [
    "file_path = \"./Titanic.csv\"\n",
    "\n",
    "try :\n",
    "    my_csv = open(file_path, 'w')\n",
    "    csvwriter = csv.writer(my_csv)\n",
    "    head = [\"Name\", \"Gender\" , \"Cabin\", \"Ticket\", \"PassengerId\" ]\n",
    "    csvwriter.writerow(head) \n",
    "    for i in range(len(data)):\n",
    "        row = [ ]\n",
    "        row.append(data[i][\"Name\"])\n",
    "        row.append(data[i][\"Gender\"])\n",
    "        row.append(data[i][\"Cabin\"])\n",
    "        row.append(data[i][\"Ticket\"])\n",
    "        row.append(data[i][\"PassengerId\"])\n",
    "        csvwriter.writerow(row)\n",
    "except FileNotFoundError:\n",
    "    print('Could not open the file:'.format(file_path))\n",
    "except IOError:\n",
    "    print('Could not write to the file:'.format(file_path))\n",
    "finally :\n",
    "    my_csv.close()"
   ]
  },
  {
   "cell_type": "code",
   "execution_count": 29,
   "id": "daae7eea",
   "metadata": {},
   "outputs": [],
   "source": [
    "import csv\n",
    "\n",
    "csv_file = \"./Passenger.csv\"\n",
    "\n",
    "try :\n",
    "    \n",
    "    theo_csv = open(csv_file, 'w')\n",
    "    csvwriter = csv.writer(theo_csv)\n",
    "    head = [\"Name\", \"Gender\" , \"Cabin\", \"Ticket\", \"PassengerId\" ]\n",
    "    csvwriter.writerow(head)\n",
    "    \n",
    "    for i in range(len(data)):\n",
    "        row = [ ]\n",
    "    \n",
    "        csvwriter.writerow(row)\n",
    "except FileNotFoundError:\n",
    "    print('Could not open the file:'.format(csv_file))\n",
    "except IOError:\n",
    "    print('Could not write to the file:'.format(csv_file))\n",
    "finally :\n",
    "    theo_csv.close()"
   ]
  },
  {
   "cell_type": "markdown",
   "id": "6249f266",
   "metadata": {},
   "source": [
    "## Task 2"
   ]
  },
  {
   "cell_type": "code",
   "execution_count": 2,
   "id": "81a70ffb",
   "metadata": {},
   "outputs": [],
   "source": [
    "import numpy as np"
   ]
  },
  {
   "cell_type": "code",
   "execution_count": 3,
   "id": "825921d6",
   "metadata": {},
   "outputs": [],
   "source": [
    "x = np.arange(1,28)"
   ]
  },
  {
   "cell_type": "code",
   "execution_count": 4,
   "id": "c310b8e6",
   "metadata": {},
   "outputs": [],
   "source": [
    "matrix1 = x.reshape(3,3,3)"
   ]
  },
  {
   "cell_type": "code",
   "execution_count": 5,
   "id": "6f26077a",
   "metadata": {},
   "outputs": [
    {
     "data": {
      "text/plain": [
       "array([[[ 1,  2,  3],\n",
       "        [ 4,  5,  6],\n",
       "        [ 7,  8,  9]],\n",
       "\n",
       "       [[10, 11, 12],\n",
       "        [13, 14, 15],\n",
       "        [16, 17, 18]],\n",
       "\n",
       "       [[19, 20, 21],\n",
       "        [22, 23, 24],\n",
       "        [25, 26, 27]]])"
      ]
     },
     "execution_count": 5,
     "metadata": {},
     "output_type": "execute_result"
    }
   ],
   "source": [
    "matrix1"
   ]
  },
  {
   "cell_type": "code",
   "execution_count": 6,
   "id": "a1a7f504",
   "metadata": {},
   "outputs": [],
   "source": [
    "data = [[[9, 8, 7], [6, 5, 4], [3, 2, 1]],\n",
    "        [[27, 26, 25], [24, 23, 22], [21, 20, 19]],\n",
    "        [[18, 17, 16], [15, 14, 13], [12, 11, 10]]]\n",
    "\n",
    "matrix2 = np.array(data)\n",
    "\n"
   ]
  },
  {
   "cell_type": "code",
   "execution_count": 7,
   "id": "41f0abd8",
   "metadata": {},
   "outputs": [
    {
     "data": {
      "text/plain": [
       "array([[[ 9,  8,  7],\n",
       "        [ 6,  5,  4],\n",
       "        [ 3,  2,  1]],\n",
       "\n",
       "       [[27, 26, 25],\n",
       "        [24, 23, 22],\n",
       "        [21, 20, 19]],\n",
       "\n",
       "       [[18, 17, 16],\n",
       "        [15, 14, 13],\n",
       "        [12, 11, 10]]])"
      ]
     },
     "execution_count": 7,
     "metadata": {},
     "output_type": "execute_result"
    }
   ],
   "source": [
    "matrix2"
   ]
  },
  {
   "cell_type": "code",
   "execution_count": 8,
   "id": "08f510ee",
   "metadata": {},
   "outputs": [],
   "source": [
    "\"\"\"\n",
    "1. Extract the diagonal from the each dimension of each matrix.\n",
    "\n",
    "\"\"\"\n",
    "diagonal1 = np.diagonal(matrix1, axis1=1, axis2=2)  # 1st main diagonal  \n",
    "diagonal2 = np.diagonal(matrix2, axis1=1, axis2=2)  # 1st main diagonal  \n",
    "\n",
    "diagonals_1 = np.array([diagonal1])\n",
    "diagonals_2 = np.array([diagonal2])"
   ]
  },
  {
   "cell_type": "code",
   "execution_count": 9,
   "id": "ca5c6480",
   "metadata": {},
   "outputs": [
    {
     "data": {
      "text/plain": [
       "array([[[ 1,  5,  9],\n",
       "        [10, 14, 18],\n",
       "        [19, 23, 27]]])"
      ]
     },
     "execution_count": 9,
     "metadata": {},
     "output_type": "execute_result"
    }
   ],
   "source": [
    "diagonals_1\n"
   ]
  },
  {
   "cell_type": "code",
   "execution_count": 10,
   "id": "911638e9",
   "metadata": {},
   "outputs": [
    {
     "data": {
      "text/plain": [
       "array([[[ 9,  5,  1],\n",
       "        [27, 23, 19],\n",
       "        [18, 14, 10]]])"
      ]
     },
     "execution_count": 10,
     "metadata": {},
     "output_type": "execute_result"
    }
   ],
   "source": [
    "diagonals_2"
   ]
  },
  {
   "cell_type": "code",
   "execution_count": 11,
   "id": "3d5fd3fe",
   "metadata": {},
   "outputs": [
    {
     "data": {
      "text/plain": [
       "array([[[10, 10, 10],\n",
       "        [37, 37, 37],\n",
       "        [37, 37, 37]]])"
      ]
     },
     "execution_count": 11,
     "metadata": {},
     "output_type": "execute_result"
    }
   ],
   "source": [
    "\"\"\"\n",
    "2. Take sum of diagonals obtained from Matrix1 and Matrix2 element-wise to get a new 2D \n",
    "matrix. [10 marks]\n",
    "\"\"\"\n",
    "result = diagonals_1 + diagonals_2\n",
    "result"
   ]
  },
  {
   "cell_type": "code",
   "execution_count": 12,
   "id": "01e0589c",
   "metadata": {},
   "outputs": [
    {
     "data": {
      "text/plain": [
       "array([[[  9,  25,   9],\n",
       "        [270, 322, 342],\n",
       "        [342, 322, 270]]])"
      ]
     },
     "execution_count": 12,
     "metadata": {},
     "output_type": "execute_result"
    }
   ],
   "source": [
    "\"\"\"\n",
    "(b) Take product of diagonals obtained from Matrix1 and Matrix2 element-wise to get a new 2D matrix.\n",
    "\n",
    "\"\"\"\n",
    "\n",
    "product = diagonals_1 * diagonals_2\n",
    "\n",
    "product"
   ]
  },
  {
   "cell_type": "code",
   "execution_count": 13,
   "id": "bb25be7d",
   "metadata": {},
   "outputs": [
    {
     "data": {
      "text/plain": [
       "1911"
      ]
     },
     "execution_count": 13,
     "metadata": {},
     "output_type": "execute_result"
    }
   ],
   "source": [
    "\"\"\"\n",
    "(c) Calculate the sum of all the elements in the resulting product.\n",
    "\n",
    "\"\"\"\n",
    "result = np.sum(product)\n",
    "result"
   ]
  },
  {
   "cell_type": "code",
   "execution_count": 16,
   "id": "d45c53b4",
   "metadata": {},
   "outputs": [],
   "source": [
    "\"\"\"\n",
    "Calculate the variance of the values in the flattened (1D) version of the matrices. Hint use Numpy var \n",
    "function [10 marks]\n",
    "\"\"\"\n",
    "\n",
    "m1 = np.ravel(matrix1 , order = 'c')\n",
    "m2 = np.ravel(matrix2 , order = 'c')"
   ]
  },
  {
   "cell_type": "code",
   "execution_count": 17,
   "id": "9af70fec",
   "metadata": {},
   "outputs": [
    {
     "name": "stdout",
     "output_type": "stream",
     "text": [
      "Variance (Matrix 1) :  60.666666666666664\n",
      "Variance (Matrix 2) :  60.666666666666664\n"
     ]
    }
   ],
   "source": [
    "print(\"Variance (Matrix 1) : \", np.var(m1))\n",
    "print(\"Variance (Matrix 2) : \", np.var(m2))"
   ]
  },
  {
   "cell_type": "code",
   "execution_count": 29,
   "id": "d5f97227",
   "metadata": {},
   "outputs": [
    {
     "data": {
      "text/plain": [
       "array([30, 36, 42, 48, 54, 60, 66, 72, 78, 84])"
      ]
     },
     "execution_count": 29,
     "metadata": {},
     "output_type": "execute_result"
    }
   ],
   "source": [
    "\"\"\"\n",
    "(e) Create two new ndarrays each containing 10 values. The first should have evenly spaced values from 20 \n",
    "to 60. The second should contain evenly spaced values from 10 to 30. Add together corresponding array \n",
    "entry values from each of the two arrays, i.e. perform the addition element-wise. [5 marks]\n",
    "\n",
    "\"\"\"\n",
    "\n",
    "array_1 = np.arange(20,60,4)\n",
    "array_2 = np.arange(10,30,2)\n",
    "\n",
    "result = array_1 + array_2\n",
    "\n",
    "result"
   ]
  },
  {
   "cell_type": "markdown",
   "id": "2d5ab4b2",
   "metadata": {},
   "source": [
    "## Task 3 (20 marks)\n"
   ]
  },
  {
   "cell_type": "code",
   "execution_count": null,
   "id": "c4fdd07c",
   "metadata": {},
   "outputs": [],
   "source": [
    "import re\n",
    "\n",
    "def is_valid_class_c_ipv4_address(ip_str):\n",
    "    # Define a regular expression pattern for Class C IPv4 address\n",
    "    pattern = r'^(19[2-9]|2[01][0-9]|22[0-3])\\.[0-9]{1,3}\\.[0-9]{1,3}\\.[0-9]{1,3}$'\n",
    "\n",
    "    # Use re.match to check if the string matches the pattern\n",
    "    if re.match(pattern, ip_str):\n",
    "        return True\n",
    "    else:\n",
    "        return False\n",
    "\n",
    "# Test the function\n",
    "ip_address = \"192.168.1.1\"\n",
    "if is_valid_class_c_ipv4_address(ip_address):\n",
    "    print(f\"{ip_address} is a valid Class C IPv4 address\")\n",
    "else:\n",
    "    print(f\"{ip_address} is not a valid Class C IPv4 address\")\n"
   ]
  },
  {
   "cell_type": "code",
   "execution_count": null,
   "id": "6022f53b",
   "metadata": {},
   "outputs": [],
   "source": []
  }
 ],
 "metadata": {
  "kernelspec": {
   "display_name": "Python 3 (ipykernel)",
   "language": "python",
   "name": "python3"
  },
  "language_info": {
   "codemirror_mode": {
    "name": "ipython",
    "version": 3
   },
   "file_extension": ".py",
   "mimetype": "text/x-python",
   "name": "python",
   "nbconvert_exporter": "python",
   "pygments_lexer": "ipython3",
   "version": "3.10.6"
  }
 },
 "nbformat": 4,
 "nbformat_minor": 5
}
