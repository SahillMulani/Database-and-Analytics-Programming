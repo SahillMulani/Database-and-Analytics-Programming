{
 "cells": [
  {
   "cell_type": "markdown",
   "metadata": {
    "button": false,
    "editable": false,
    "new_sheet": false,
    "run_control": {
     "read_only": false
    }
   },
   "source": [
    "**Question 1**\n",
    "\n",
    "Theophylline is a drug used for the treatment of diseases such as chronic obstructive pulmonary disease\n",
    "and asthma. This medicine was administered to 20 subjects over a number of days. Each time the drug\n",
    "was administered to the subjects, the following measurements were recorded:\n",
    "\n",
    "| field | description |\n",
    "|-------|-------------|\n",
    "|id | a number (1, . . . , 20) identifying the subject on whom the observation was made |\n",
    "|weight|weight of the subject (kg)|\n",
    "|dose|dose of theophylline administered orally to the subject (mg/kg)|\n",
    "|time|time since drug administration when the sample was drawn (hr)|\n",
    "|conc|theophylline concentration in the sample (mg/L)|\n",
    "\n",
    "There are 1,000 records in total. You have been provided with an XML file containing this data.\n",
    "\n",
    "a) Create a function to import this XML file. Your function should include exception handling\n",
    "clauses."
   ]
  },
  {
   "cell_type": "code",
   "execution_count": 2,
   "metadata": {},
   "outputs": [],
   "source": [
    "import xml.etree.ElementTree as ET\n",
    "\n",
    "xmlfile = 'Titanic.xml'\n",
    "\n",
    "try :\n",
    "    xmldata = open(xmlfile,'r')\n",
    "    xmltree = ET.fromstring(xmldata.read())\n",
    "except FileNotFoundError:\n",
    "    print('Could not open the file:'.format(xmlfile))\n",
    "except IOError:\n",
    "    print('Could not read from the file:'.format(xmlfile))\n",
    "finally :\n",
    "    xmldata.close()"
   ]
  },
  {
   "cell_type": "markdown",
   "metadata": {
    "button": false,
    "editable": false,
    "new_sheet": false,
    "run_control": {
     "read_only": false
    }
   },
   "source": [
    "b) Use the print function to display the ‘id’, ‘weight’ and ‘conc’ of the second, fourth, sixth, eight and tenth records in the XML dataset. (Hint: you may use the range() function). "
   ]
  },
  {
   "cell_type": "code",
   "execution_count": 2,
   "metadata": {},
   "outputs": [
    {
     "name": "stdout",
     "output_type": "stream",
     "text": [
      "id:13\tweight:73.8\tconc:0.66\n",
      "id:5\tweight:88.3\tconc:9.47\n",
      "id:8\tweight:81.3\tconc:6.43\n",
      "id:10\tweight:75.1\tconc:11.25\n",
      "id:20\tweight:67.9\tconc:7.84\n"
     ]
    }
   ],
   "source": [
    "for i in range(1,10,2) :\n",
    "    id = xmltree[i].find('id').text\n",
    "    weight = xmltree[i].find('weight').text\n",
    "    conc = xmltree[i].find('conc').text\n",
    "    print('id:{}\\tweight:{}\\tconc:{}'.format(id,weight,conc))"
   ]
  },
  {
   "cell_type": "markdown",
   "metadata": {
    "button": false,
    "editable": false,
    "new_sheet": false,
    "run_control": {
     "read_only": false
    }
   },
   "source": [
    "c) Extract all the XML data and write it to a CSV file. Your file should also contain the column names."
   ]
  },
  {
   "cell_type": "code",
   "execution_count": 3,
   "metadata": {},
   "outputs": [],
   "source": [
    "import csv\n",
    "\n",
    "csv_file = \"./theodata.csv\"\n",
    "\n",
    "try :\n",
    "    theo_csv = open(csv_file, 'w')\n",
    "    csvwriter = csv.writer(theo_csv)\n",
    "    head = []\n",
    "    rowcount = 0\n",
    "    for subject in xmltree.findall('subject'):\n",
    "        row = []\n",
    "        if rowcount == 0:\n",
    "            for col in range(0,len(list(subject))) :\n",
    "                head.append(subject[col].tag)\n",
    "            csvwriter.writerow(head)\n",
    "            rowcount = rowcount + 1\n",
    "        for col in range(0,len(list(subject))) :\n",
    "            row.append(subject[col].text)\n",
    "        csvwriter.writerow(row)\n",
    "except FileNotFoundError:\n",
    "    print('Could not open the file:'.format(csv_file))\n",
    "except IOError:\n",
    "    print('Could not write to the file:'.format(csv_file))\n",
    "finally :\n",
    "    theo_csv.close()"
   ]
  },
  {
   "cell_type": "markdown",
   "metadata": {
    "button": false,
    "editable": false,
    "new_sheet": false,
    "run_control": {
     "read_only": false
    }
   },
   "source": [
    "**Question 2**\n",
    "\n",
    "a) Create a NumPy array filled with 1,500 numbers. Ensure that your array has 300 rows and 5\n",
    "columns. "
   ]
  },
  {
   "cell_type": "code",
   "execution_count": 4,
   "metadata": {},
   "outputs": [],
   "source": [
    "import numpy as np\n",
    "myarray = np.arange(1500).reshape(300,5)"
   ]
  },
  {
   "cell_type": "markdown",
   "metadata": {
    "button": false,
    "editable": false,
    "new_sheet": false,
    "run_control": {
     "read_only": false
    }
   },
   "source": [
    "b) Using slicing, split this array into 5 separate arrays. The number of rows in each array should be\n",
    "equal, and there should still be 5 columns.\n"
   ]
  },
  {
   "cell_type": "code",
   "execution_count": 5,
   "metadata": {},
   "outputs": [],
   "source": [
    "myarray1 = myarray[0:50,:]\n",
    "myarray2 = myarray[50:100,:]\n",
    "myarray3 = myarray[100:150,:]\n",
    "myarray4 = myarray[150:200,:]\n",
    "myarray5 = myarray[200:250,:]"
   ]
  },
  {
   "cell_type": "markdown",
   "metadata": {
    "button": false,
    "editable": false,
    "new_sheet": false,
    "run_control": {
     "read_only": false
    }
   },
   "source": [
    "c) Reshape these 3 of these arrays into any dimensions of your choice. They should all have different\n",
    "dimensions."
   ]
  },
  {
   "cell_type": "code",
   "execution_count": 7,
   "metadata": {},
   "outputs": [
    {
     "ename": "ValueError",
     "evalue": "cannot reshape array of size 250 into shape (3,50,2)",
     "output_type": "error",
     "traceback": [
      "\u001b[0;31m---------------------------------------------------------------------------\u001b[0m",
      "\u001b[0;31mValueError\u001b[0m                                Traceback (most recent call last)",
      "\u001b[0;32m<ipython-input-7-e68ea4d57ace>\u001b[0m in \u001b[0;36m<module>\u001b[0;34m\u001b[0m\n\u001b[1;32m      1\u001b[0m \u001b[0mreshaped1\u001b[0m \u001b[0;34m=\u001b[0m \u001b[0mmyarray1\u001b[0m\u001b[0;34m.\u001b[0m\u001b[0mravel\u001b[0m\u001b[0;34m(\u001b[0m\u001b[0;34m)\u001b[0m\u001b[0;34m\u001b[0m\u001b[0;34m\u001b[0m\u001b[0m\n\u001b[1;32m      2\u001b[0m \u001b[0mreshaped2\u001b[0m \u001b[0;34m=\u001b[0m \u001b[0mmyarray2\u001b[0m\u001b[0;34m.\u001b[0m\u001b[0mreshape\u001b[0m\u001b[0;34m(\u001b[0m\u001b[0;36m125\u001b[0m\u001b[0;34m,\u001b[0m\u001b[0;36m2\u001b[0m\u001b[0;34m)\u001b[0m\u001b[0;34m\u001b[0m\u001b[0;34m\u001b[0m\u001b[0m\n\u001b[0;32m----> 3\u001b[0;31m \u001b[0mreshaped3\u001b[0m \u001b[0;34m=\u001b[0m \u001b[0mmyarray3\u001b[0m\u001b[0;34m.\u001b[0m\u001b[0mreshape\u001b[0m\u001b[0;34m(\u001b[0m\u001b[0;36m3\u001b[0m\u001b[0;34m,\u001b[0m\u001b[0;36m50\u001b[0m\u001b[0;34m,\u001b[0m\u001b[0;36m2\u001b[0m\u001b[0;34m)\u001b[0m\u001b[0;34m\u001b[0m\u001b[0;34m\u001b[0m\u001b[0m\n\u001b[0m",
      "\u001b[0;31mValueError\u001b[0m: cannot reshape array of size 250 into shape (3,50,2)"
     ]
    }
   ],
   "source": [
    "reshaped1 = myarray1.ravel()\n",
    "reshaped2 = myarray2.reshape(125,2)\n",
    "reshaped3 = myarray3.reshape(3,50,2)"
   ]
  },
  {
   "cell_type": "markdown",
   "metadata": {
    "button": false,
    "editable": false,
    "new_sheet": false,
    "run_control": {
     "read_only": false
    }
   },
   "source": [
    "d) Split 2 of these reshaped arrays vertically."
   ]
  },
  {
   "cell_type": "code",
   "execution_count": null,
   "metadata": {},
   "outputs": [],
   "source": [
    "split1 = np.vsplit(myarray2,2)\n",
    "split2 = np.vsplit(myarray4,5)"
   ]
  },
  {
   "cell_type": "markdown",
   "metadata": {
    "button": false,
    "editable": false,
    "new_sheet": false,
    "run_control": {
     "read_only": false
    }
   },
   "source": [
    "**Question 3**\n",
    "\n",
    "Given the following string:\n",
    "\n",
    "All I want is a proper cup of coffee<br>\n",
    "Made in a proper copper coffee pot<br>\n",
    "I may be off my dot<br>\n",
    "But I want a cup of coffee<br>\n",
    "From a proper coffee pot<br>\n",
    "Tin coffee pots and iron coffee pots<br>\n",
    "They’re no use to me<br>\n",
    "If I can’t have a proper cup of coffee<br>\n",
    "In a proper copper coffee pot<br>\n",
    "I’ll have a cup of tea\n",
    "\n",
    "a) Write a single function that uses regular expressions to highlight the words “tea”,“dot” or “pot” if they appear at the end of a line.\n",
    "\n",
    "Your answer should look like this:\n",
    "\n",
    "All I want is a proper cup of coffee<br>\n",
    "Made in a proper copper coffee {pot}<br>\n",
    "I may be off my {dot}<br>\n",
    "But I want a cup of coffee<br>\n",
    "From a proper coffee {pot}<br>\n",
    "Tin coffee pots and iron coffee pots<br>\n",
    "They’re no use to me<br>\n",
    "If I can’t have a proper cup of coffee<br>\n",
    "In a proper copper coffee {pot}<br>\n",
    "I’ll have a cup of {tea}"
   ]
  },
  {
   "cell_type": "code",
   "execution_count": null,
   "metadata": {},
   "outputs": [],
   "source": [
    "import re\n",
    "text = '''All I want is a proper cup of coffee\n",
    "Made in a proper copper coffee pot\n",
    "I may be off my dot\n",
    "But I want a cup of coffee\n",
    "From a proper coffee pot\n",
    "Tin coffee pots and iron coffee pots\n",
    "They’re no use to me\n",
    "If I can’t have a proper cup of coffee\n",
    "In a proper copper coffee pot\n",
    "I’ll have a cup of tea\n",
    "'''\n",
    "print(re.compile(r'tea|dot|pot$',re.M).sub('{\\g<0>}',text.rstrip()))"
   ]
  },
  {
   "cell_type": "markdown",
   "metadata": {
    "button": false,
    "editable": false,
    "new_sheet": false,
    "run_control": {
     "read_only": false
    }
   },
   "source": [
    "b) Using regular expressions, write code to highlight all words except “cup”, “pot” and “coffee” regardless of wherever it is found in passage.\n",
    "\n",
    "Your answer should look like this:\n",
    "\n",
    "{All} {I} {want} {is} {a} {proper} cup {of} coffee<br>\n",
    "{Made} {in} {a} {proper} {copper} coffee pot<br>\n",
    "{I} {may} {be} {off} {my} {dot}<br>\n",
    "\n",
    "and so on."
   ]
  },
  {
   "cell_type": "code",
   "execution_count": null,
   "metadata": {},
   "outputs": [],
   "source": [
    "print(re.compile(r'\\b(?!coffee|cup|pot\\b)\\w+',re.M).sub('{\\g<0>}',text.rstrip()))"
   ]
  }
 ],
 "metadata": {
  "kernelspec": {
   "display_name": "Python 3 (ipykernel)",
   "language": "python",
   "name": "python3"
  },
  "language_info": {
   "codemirror_mode": {
    "name": "ipython",
    "version": 3
   },
   "file_extension": ".py",
   "mimetype": "text/x-python",
   "name": "python",
   "nbconvert_exporter": "python",
   "pygments_lexer": "ipython3",
   "version": "3.10.6"
  }
 },
 "nbformat": 4,
 "nbformat_minor": 4
}
