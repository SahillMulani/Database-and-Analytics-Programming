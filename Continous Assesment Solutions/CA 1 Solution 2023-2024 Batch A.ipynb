{
 "cells": [
  {
   "cell_type": "markdown",
   "id": "da0491ba",
   "metadata": {},
   "source": [
    "## Task 1\n",
    "\n",
    "The NorthWind data set, provided in XML format on Moodle, includes details of orders received by a fictitious business and is based on a sample Microsoft SQL Server database."
   ]
  },
  {
   "cell_type": "markdown",
   "id": "396319a4",
   "metadata": {},
   "source": [
    "- (a)\tCreate a function to import this XML file. Your function must include all appropriate exception handling clauses covering all possible error conditions. The function should return the parsed contents of the XML file."
   ]
  },
  {
   "cell_type": "code",
   "execution_count": 69,
   "id": "a44b6cfe",
   "metadata": {},
   "outputs": [],
   "source": [
    "import xml.etree.ElementTree as ET\n",
    "\n",
    "# XML File path \n",
    "filepath = \"NorthWind.xml\"\n",
    "\n",
    "def read_xml_file(filepath):\n",
    "    \"\"\"\n",
    "    Reads an XML file from the given filepath and parses it.\n",
    "    \n",
    "    Input : file_path , type : str\n",
    "    Return : xmltree , type : object\n",
    "\n",
    "    \"\"\"\n",
    "    try :\n",
    "        # Read xml file\n",
    "        xmldata = open(filepath,'r')\n",
    "        xmltree = ET.fromstring(xmldata.read())\n",
    "        return xmltree\n",
    "    except FileNotFoundError:\n",
    "        print(f'File not found. Please check the file path :{filepath}')\n",
    "    except IOError:\n",
    "        print(f'An error occurred while trying to read the file: {filepath}\\nError: {e}')\n",
    "    finally :\n",
    "        xmldata.close()  \n",
    "\n",
    "parsed_xml = read_xml_file(filepath)"
   ]
  },
  {
   "cell_type": "markdown",
   "id": "0a63fe83",
   "metadata": {},
   "source": [
    "- (b)\tUsing the function you created in a) above, load the XML file, assigning the parsed contents to a variable named parsed_xml. Then use the print() function to display the OrderID, CustomerID, ShipCity and ShipCountry for the 10th, 13th, 16th and 19th orders. Hint: the range() function might come in useful here!"
   ]
  },
  {
   "cell_type": "code",
   "execution_count": 23,
   "id": "1d4eb9c4",
   "metadata": {},
   "outputs": [],
   "source": [
    "def get_data(values, xmltree):\n",
    "    \"\"\"\n",
    "    Reads an the data from XML file and return the data.\n",
    "    \n",
    "    Input : values , type : list\n",
    "    Return : xmltree , type : object\n",
    "\n",
    "    \"\"\"\n",
    "\n",
    "    data = [ ]\n",
    "    for i in values :\n",
    "            OrderID = xmltree[0][i].get('OrderID')\n",
    "            CustomerID = xmltree[0][i].find(\"CustomerID\").text\n",
    "            ShipCity = xmltree[0][i].find('ShipCity').text\n",
    "            ShipCountry = xmltree[0][i].find(\"ShipCountry\").text\n",
    "            data.append( {\n",
    "                \"OrderID\" : OrderID,\n",
    "                \"CustomerID\" : CustomerID,\n",
    "                \"ShipCity\" : ShipCity,\n",
    "                \"ShipCountry\" : ShipCountry\n",
    "            })\n",
    "    return data\n",
    "values = [10,13,16,19]\n",
    "get_data_result = get_data(values, parsed_xml)"
   ]
  },
  {
   "cell_type": "code",
   "execution_count": 26,
   "id": "ea883996",
   "metadata": {},
   "outputs": [
    {
     "data": {
      "text/plain": [
       "[{'OrderID': '10258',\n",
       "  'CustomerID': 'ERNSH',\n",
       "  'ShipCity': 'Graz',\n",
       "  'ShipCountry': 'Austria'},\n",
       " {'OrderID': '10261',\n",
       "  'CustomerID': 'QUEDE',\n",
       "  'ShipCity': 'Rio de Janeiro',\n",
       "  'ShipCountry': 'Brazil'},\n",
       " {'OrderID': '10264',\n",
       "  'CustomerID': 'FOLKO',\n",
       "  'ShipCity': 'BrÃ¤cke',\n",
       "  'ShipCountry': 'Sweden'},\n",
       " {'OrderID': '10267',\n",
       "  'CustomerID': 'FRANK',\n",
       "  'ShipCity': 'MÃ¼nchen',\n",
       "  'ShipCountry': 'Germany'}]"
      ]
     },
     "execution_count": 26,
     "metadata": {},
     "output_type": "execute_result"
    }
   ],
   "source": [
    "get_data_result\n",
    "# print(get_data_result)"
   ]
  },
  {
   "cell_type": "markdown",
   "id": "cc106c64",
   "metadata": {},
   "source": [
    "- (c)\tUsing the parsed contents of the XML file in the parsed_xml variable created earlier, find all orders taken by EmployeeID 5. Export all orders and their associated order details data for these orders to a CSV file. Your CSV file should contain field names, using the tag names in the XML file. Note: you should not use Pandas for this task."
   ]
  },
  {
   "cell_type": "code",
   "execution_count": 82,
   "id": "c8746142",
   "metadata": {},
   "outputs": [],
   "source": [
    "def get_child(parsed_xml):\n",
    "    for root in parsed_xml:\n",
    "            for child in root :\n",
    "                if child.find(\"EmployeeID\").text == \"5\":\n",
    "                    return child\n",
    "            \n",
    "            \n",
    "            \n",
    "def get_cond_data(child):\n",
    "    data = [ ]\n",
    "    for grandchild in child:\n",
    "        if grandchild.tag == \"OrderDetails\":\n",
    "            for element in grandchild:\n",
    "                    ProductID = element.find(\"ProductID\").text\n",
    "                    UnitPrice = element.find(\"UnitPrice\").text\n",
    "                    Quantity = element.find(\"Quantity\").text\n",
    "                    Discount = element.find(\"Discount\").text\n",
    "                    data.append( {\n",
    "                            \"ProductID\" : ProductID,\n",
    "                            \"UnitPrice\" : UnitPrice,\n",
    "                            \"Quantity\" : Quantity,\n",
    "                            \"Discount\" : Discount\n",
    "                        })\n",
    "    return data\n",
    "\n",
    "child = get_child(parsed_xml)\n",
    "get_data_result = get_cond_data(child)"
   ]
  },
  {
   "cell_type": "code",
   "execution_count": 83,
   "id": "6ac57289",
   "metadata": {},
   "outputs": [
    {
     "data": {
      "text/plain": [
       "[{'ProductID': '11',\n",
       "  'UnitPrice': '14.0000',\n",
       "  'Quantity': '12',\n",
       "  'Discount': '0'},\n",
       " {'ProductID': '42', 'UnitPrice': '9.8000', 'Quantity': '10', 'Discount': '0'},\n",
       " {'ProductID': '72', 'UnitPrice': '34.8000', 'Quantity': '5', 'Discount': '0'}]"
      ]
     },
     "execution_count": 83,
     "metadata": {},
     "output_type": "execute_result"
    }
   ],
   "source": [
    "get_data_result"
   ]
  },
  {
   "cell_type": "code",
   "execution_count": 84,
   "id": "997ea4d4",
   "metadata": {},
   "outputs": [],
   "source": [
    "import csv\n",
    "\n",
    "# CSV File Path\n",
    "file_path = \"./Orderdetails.csv\"\n",
    "\n",
    "def write_to_csv(filepath, data):\n",
    "    \"\"\"\n",
    "    Writes the data to CSV File\n",
    "    \n",
    "    Input: CSV File Path, type : str\n",
    "           Data , type : list\n",
    "\n",
    "    Return : NA \n",
    "    \"\"\"\n",
    "    try :\n",
    "        # Writing to CSV File\n",
    "        my_csv = open(file_path, 'w')\n",
    "        # Creating a CSV Writer Object\n",
    "        csvwriter = csv.writer(my_csv)\n",
    "        head = [ \"ProductID\" , \"UnitPrice\" , \"Quantity\" , \"Discount\" ] # Specify Column Names here\n",
    "        # Writing Columns to the file\n",
    "        csvwriter.writerow(head)\n",
    "\n",
    "        for i in range(len(data)):\n",
    "            row = [ ]\n",
    "            #Specify the names of Keys of the data such as \"Name\",\"Gender\"\n",
    "            row.append(data[i]['ProductID'])\n",
    "            row.append(data[i]['UnitPrice'])\n",
    "            row.append(data[i]['Quantity'])\n",
    "            row.append(data[i]['Discount'])\n",
    "            # Writing Rows to the File\n",
    "            csvwriter.writerow(row)\n",
    "\n",
    "    except FileNotFoundError:\n",
    "        print(f'File not found. Please check the file path :{filepath}')\n",
    "    except IOError:\n",
    "        print(f'An error occurred while trying to read the file: {filepath}\\nError: {e}')\n",
    "    finally :\n",
    "        my_csv.close()\n",
    "        \n",
    "write_to_csv(filepath,get_data_result)"
   ]
  },
  {
   "cell_type": "markdown",
   "id": "057e0f70",
   "metadata": {},
   "source": [
    "## Task 2"
   ]
  },
  {
   "cell_type": "code",
   "execution_count": 86,
   "id": "57e89263",
   "metadata": {},
   "outputs": [],
   "source": [
    "import numpy as np"
   ]
  },
  {
   "cell_type": "markdown",
   "id": "03c33715",
   "metadata": {},
   "source": [
    "- (a)\tCreate a three dimensional NumPy ndarray containing all even numbers between 1000 and 8998. The resulting ndarray should be assigned to a variable named array_a and should be reshaped to have 8 layers, 50 rows and 10 columns."
   ]
  },
  {
   "cell_type": "code",
   "execution_count": 104,
   "id": "78dfab11",
   "metadata": {},
   "outputs": [],
   "source": [
    "array_a = np.arange(999,8998,2)"
   ]
  },
  {
   "cell_type": "code",
   "execution_count": 105,
   "id": "95b4d567",
   "metadata": {},
   "outputs": [],
   "source": [
    "a = array_a.reshape(8,50,10)"
   ]
  },
  {
   "cell_type": "code",
   "execution_count": 122,
   "id": "74c6b8d6",
   "metadata": {},
   "outputs": [],
   "source": [
    "data = [ ]\n",
    "for i in range(0,3):\n",
    "    data.append(a[3][-1])\n",
    "\n"
   ]
  },
  {
   "cell_type": "code",
   "execution_count": 123,
   "id": "e59499b5",
   "metadata": {},
   "outputs": [
    {
     "data": {
      "text/plain": [
       "[array([4979, 4981, 4983, 4985, 4987, 4989, 4991, 4993, 4995, 4997]),\n",
       " array([4979, 4981, 4983, 4985, 4987, 4989, 4991, 4993, 4995, 4997]),\n",
       " array([4979, 4981, 4983, 4985, 4987, 4989, 4991, 4993, 4995, 4997])]"
      ]
     },
     "execution_count": 123,
     "metadata": {},
     "output_type": "execute_result"
    }
   ],
   "source": [
    "data"
   ]
  },
  {
   "cell_type": "markdown",
   "id": "64ee34cb",
   "metadata": {},
   "source": [
    "- (b) Compute the mean of the values in each of the last 3 rows in the 4th layer. The result should be a 1D array with 3 separate values"
   ]
  },
  {
   "cell_type": "code",
   "execution_count": 124,
   "id": "1f862043",
   "metadata": {},
   "outputs": [],
   "source": [
    "Mean = [ ]\n",
    "for i in range(0,3):\n",
    "    mean = np.mean(data[i])\n",
    "    Mean.append(mean)"
   ]
  },
  {
   "cell_type": "code",
   "execution_count": 125,
   "id": "e96a281d",
   "metadata": {},
   "outputs": [
    {
     "data": {
      "text/plain": [
       "[4988.0, 4988.0, 4988.0]"
      ]
     },
     "execution_count": 125,
     "metadata": {},
     "output_type": "execute_result"
    }
   ],
   "source": [
    "Mean"
   ]
  },
  {
   "cell_type": "code",
   "execution_count": 127,
   "id": "267439d2",
   "metadata": {},
   "outputs": [],
   "source": [
    "# for i in range(0,8):\n",
    "#     data.append(a[i][i][4])"
   ]
  },
  {
   "cell_type": "markdown",
   "id": "81659e36",
   "metadata": {},
   "source": [
    "- (c)\tCompute the product of all cells in the first 4 columns in all layers. The result should be a single scalar value."
   ]
  },
  {
   "cell_type": "code",
   "execution_count": 132,
   "id": "a4866174",
   "metadata": {},
   "outputs": [],
   "source": [
    "result = a[:, :, :4]"
   ]
  },
  {
   "cell_type": "code",
   "execution_count": 133,
   "id": "f0b9b37e",
   "metadata": {},
   "outputs": [
    {
     "data": {
      "text/plain": [
       "2009114881"
      ]
     },
     "execution_count": 133,
     "metadata": {},
     "output_type": "execute_result"
    }
   ],
   "source": [
    "product_result = np.prod(result)\n",
    "product_result"
   ]
  },
  {
   "cell_type": "markdown",
   "id": "55799256",
   "metadata": {},
   "source": [
    "- (d)\tUsing a single NumPy function, split the 3D array created in a) above column-wise, producing five separate arrays"
   ]
  },
  {
   "cell_type": "code",
   "execution_count": null,
   "id": "f6f62e47",
   "metadata": {},
   "outputs": [],
   "source": [
    "np.hsplit(a, 5)"
   ]
  },
  {
   "cell_type": "markdown",
   "id": "8bd94126",
   "metadata": {},
   "source": [
    "- (e)\tCreate two new ndarrays each containing 15 values. The first should be named array_b and should have evenly spaced values from 60 to 75. The second should be named array_c and should contain evenly spaced values from 8 to 40. Multiply the corresponding array entry values from each of the two arrays, i.e. perform the multiplication element-wise."
   ]
  },
  {
   "cell_type": "code",
   "execution_count": 146,
   "id": "706abe95",
   "metadata": {},
   "outputs": [
    {
     "name": "stdout",
     "output_type": "stream",
     "text": [
      "[60 61 62 63 64 65 66 67 68 69 70 71 72 73 74]\n",
      "[ 8 10 12 14 16 18 20 22 24 26 28 30 32 34 36]\n"
     ]
    },
    {
     "data": {
      "text/plain": [
       "array([ 480,  610,  744,  882, 1024, 1170, 1320, 1474, 1632, 1794, 1960,\n",
       "       2130, 2304, 2482, 2664])"
      ]
     },
     "execution_count": 146,
     "metadata": {},
     "output_type": "execute_result"
    }
   ],
   "source": [
    "array_b = np.arange(60,75)\n",
    "array_c = np.arange(8,38,2)\n",
    "\n",
    "print(array_b)\n",
    "print(array_c)\n",
    "\n",
    "product = array_b * array_c\n",
    "product"
   ]
  },
  {
   "cell_type": "markdown",
   "id": "5a79f0d6",
   "metadata": {},
   "source": [
    "## Task 3"
   ]
  },
  {
   "cell_type": "markdown",
   "id": "656eaed8",
   "metadata": {},
   "source": [
    "Write a function that has one parameter that takes a string value as its argument. The function should use a regular expression to check if the string passed as an argument contains a valid email address. The function should return the number of valid email addresses found.\n",
    "Test your function with multiple sample strings containing both valid and invalid email addresses. An example of an invalid email address would be user@server@domain.com (an email address can contain only one @)\n"
   ]
  },
  {
   "cell_type": "code",
   "execution_count": 182,
   "id": "62624d03",
   "metadata": {},
   "outputs": [
    {
     "name": "stdout",
     "output_type": "stream",
     "text": [
      "['student_support@nci.com', 'exa@mple@gmail..com']\n"
     ]
    },
    {
     "data": {
      "text/plain": [
       "1"
      ]
     },
     "execution_count": 182,
     "metadata": {},
     "output_type": "execute_result"
    }
   ],
   "source": [
    "import re\n",
    "\n",
    "def check_email_address(sample_string):\n",
    "    \n",
    "    count = 0\n",
    "    \n",
    "    pattern_for_email = r'\\b[A-Za-z0-9._%+-]+[@A-Za-z0-9.-]+\\.[A-Z|a-z]{2,7}\\b'\n",
    "    \n",
    "    emails = re.findall(pattern_for_email, sample_string)\n",
    "    print(emails)\n",
    "    \n",
    "    email_pattern = r'\\b[A-Za-z0-9._%+-]+@[A-Za-z0-9.-]+\\.[A-Z|a-z]{2,7}\\b'\n",
    "    \n",
    "    for email in emails:\n",
    "        if re.match(email_pattern,email):\n",
    "            count = count + 1 \n",
    "    \n",
    "    return count\n",
    "\n",
    "sample_string = \"Get in touch with student_support@nci.com for assistance exa@mple@gmail..com \"\n",
    "\n",
    "count = check_email_address(sample_string)\n",
    "count\n",
    "    "
   ]
  }
 ],
 "metadata": {
  "kernelspec": {
   "display_name": "Python 3 (ipykernel)",
   "language": "python",
   "name": "python3"
  },
  "language_info": {
   "codemirror_mode": {
    "name": "ipython",
    "version": 3
   },
   "file_extension": ".py",
   "mimetype": "text/x-python",
   "name": "python",
   "nbconvert_exporter": "python",
   "pygments_lexer": "ipython3",
   "version": "3.10.6"
  }
 },
 "nbformat": 4,
 "nbformat_minor": 5
}
