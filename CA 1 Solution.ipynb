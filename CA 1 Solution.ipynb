{
 "cells": [
  {
   "cell_type": "markdown",
   "id": "934dacc3",
   "metadata": {},
   "source": [
    "### Question 1 (55 marks)\n",
    "\n",
    "The Northwind data set, provided in XML format on Moodle, includes details of employees, customers,\n",
    "products and sales for a fictitious company.\n",
    "\n",
    "- (a) Create a function to import this XML file. Your function must include appropriate exception\n",
    "    handling clauses covering all possible error conditions and should return the parsed contents of the\n",
    "    XML file. [15 marks]\n",
    "    \n",
    "- (b) Using the function you created in a) above, load the XML file. Then use the print() function to\n",
    "    display the ProductName and UnitPrice for the second, fourth, sixth, eighth and tenth products.\n",
    "    Hint: the range() function might come in useful here! [15 marks]\n"
   ]
  },
  {
   "cell_type": "code",
   "execution_count": null,
   "id": "31b98351",
   "metadata": {},
   "outputs": [],
   "source": [
    "def import_XML(file_path):\n",
    "    \n",
    "    "
   ]
  },
  {
   "cell_type": "code",
   "execution_count": null,
   "id": "c9b971c3",
   "metadata": {},
   "outputs": [],
   "source": []
  },
  {
   "cell_type": "code",
   "execution_count": null,
   "id": "eafadc7a",
   "metadata": {},
   "outputs": [],
   "source": []
  },
  {
   "cell_type": "code",
   "execution_count": null,
   "id": "782b990b",
   "metadata": {},
   "outputs": [],
   "source": []
  },
  {
   "cell_type": "code",
   "execution_count": null,
   "id": "d5d4d01e",
   "metadata": {},
   "outputs": [],
   "source": []
  },
  {
   "cell_type": "code",
   "execution_count": null,
   "id": "e79cb96d",
   "metadata": {},
   "outputs": [],
   "source": []
  },
  {
   "cell_type": "code",
   "execution_count": null,
   "id": "9b4e40be",
   "metadata": {},
   "outputs": [],
   "source": []
  },
  {
   "cell_type": "code",
   "execution_count": null,
   "id": "1af51d62",
   "metadata": {},
   "outputs": [],
   "source": []
  }
 ],
 "metadata": {
  "kernelspec": {
   "display_name": "Python 3 (ipykernel)",
   "language": "python",
   "name": "python3"
  },
  "language_info": {
   "codemirror_mode": {
    "name": "ipython",
    "version": 3
   },
   "file_extension": ".py",
   "mimetype": "text/x-python",
   "name": "python",
   "nbconvert_exporter": "python",
   "pygments_lexer": "ipython3",
   "version": "3.10.6"
  }
 },
 "nbformat": 4,
 "nbformat_minor": 5
}
