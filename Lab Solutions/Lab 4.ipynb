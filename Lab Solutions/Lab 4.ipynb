{
 "cells": [
  {
   "cell_type": "code",
   "execution_count": null,
   "id": "b5789133",
   "metadata": {},
   "outputs": [],
   "source": [
    "# Excpetion Handling\n",
    "\"\"\"\n",
    "a) Create a text file and manually add some data to the file\n",
    "\n",
    "\"\"\"\n",
    "try :\n",
    "    sample = open(\"Sample.txt\",\"a\")\n",
    "except FileNotFoundError as e :\n",
    "    print(f\" Error : {e}\")\n",
    "except FileExistsError as e :\n",
    "    print(f\" Error : {e}\")\n",
    "else :\n",
    "    value = \"Hello World\"\n",
    "    sample.write(value)\n",
    "finally :\n",
    "    sample.close()\n",
    "\n",
    "\"\"\"\n",
    "b) Write Python code to\n",
    "• open the file for write only access\n",
    "• attempt to read the contents of the file\n",
    "\n",
    "\"\"\"\n",
    "\n",
    "file = open('Sample.txt', 'w')\n",
    "try :\n",
    "    file.read()\n",
    "except IOError as e : \n",
    "    print(f\"Error : {e}\")\n",
    "except Exception as e:\n",
    "    print(f\"Exception : {e}\")\n",
    "finally :\n",
    "    file.close()\n",
    "\n",
    "\n",
    "\n"
   ]
  },
  {
   "cell_type": "markdown",
   "id": "4f7d8df8",
   "metadata": {},
   "source": [
    "### Custom Exception"
   ]
  },
  {
   "cell_type": "code",
   "execution_count": 1,
   "id": "29853d2c",
   "metadata": {},
   "outputs": [],
   "source": [
    "class CustomException(Exception):\n",
    "    \"Raises a Custom Exception\"\n",
    "    pass\n"
   ]
  },
  {
   "cell_type": "code",
   "execution_count": 1,
   "id": "adf21b04",
   "metadata": {},
   "outputs": [],
   "source": [
    "\"\"\"\n",
    "2. Numpy Exercise A\n",
    "a) Create an array with the arange function and reshape the array as follows:\n",
    "b = arange(24).reshape(2,3,4)\n",
    "This gives us a 3-dimensional data structure – you can think of it as being like 2\n",
    "spreadsheet sheets where each sheet contains 3 rows of data and each row\n",
    "contains 4 columns.\n",
    "\n",
    "\"\"\"\n",
    "\n",
    "import numpy as np\n",
    "\n",
    "a = np.arange(24)\n",
    "a = a.reshape(2,3,4)"
   ]
  },
  {
   "cell_type": "code",
   "execution_count": 2,
   "id": "9d5ef142",
   "metadata": {},
   "outputs": [
    {
     "data": {
      "text/plain": [
       "array([[[ 0,  1,  2,  3],\n",
       "        [ 4,  5,  6,  7],\n",
       "        [ 8,  9, 10, 11]],\n",
       "\n",
       "       [[12, 13, 14, 15],\n",
       "        [16, 17, 18, 19],\n",
       "        [20, 21, 22, 23]]])"
      ]
     },
     "execution_count": 2,
     "metadata": {},
     "output_type": "execute_result"
    }
   ],
   "source": [
    "a"
   ]
  },
  {
   "cell_type": "code",
   "execution_count": 3,
   "id": "c95362b5",
   "metadata": {},
   "outputs": [
    {
     "data": {
      "text/plain": [
       "array([[ 0,  1,  2,  3],\n",
       "       [ 4,  5,  6,  7],\n",
       "       [ 8,  9, 10, 11]])"
      ]
     },
     "execution_count": 3,
     "metadata": {},
     "output_type": "execute_result"
    }
   ],
   "source": [
    "\"\"\"\n",
    "Using indexing and slicing perform the following tasks:\n",
    "i) Choose the first set of 3 rows and 4 columns of data\n",
    "\"\"\"\n",
    "a[0]"
   ]
  },
  {
   "cell_type": "code",
   "execution_count": 4,
   "id": "fe3c0ac4",
   "metadata": {},
   "outputs": [
    {
     "data": {
      "text/plain": [
       "array([16, 17, 18, 19])"
      ]
     },
     "execution_count": 4,
     "metadata": {},
     "output_type": "execute_result"
    }
   ],
   "source": [
    "\"\"\"\n",
    "ii) Choose the second row of data from the second set of 3 rows of data\n",
    "\n",
    "\"\"\"\n",
    "\n",
    "a[1][1]"
   ]
  },
  {
   "cell_type": "code",
   "execution_count": 5,
   "id": "d9f42b39",
   "metadata": {},
   "outputs": [
    {
     "name": "stdout",
     "output_type": "stream",
     "text": [
      "1\n",
      "5\n",
      "9\n",
      "13\n",
      "17\n",
      "21\n"
     ]
    }
   ],
   "source": [
    "\"\"\"\n",
    "iii) Choose all the data from the second column for both the first and second\n",
    "sets of rows and columns of data\n",
    "\"\"\"\n",
    "\n",
    "for i in range(0,2):\n",
    "    for j in range(len(a[0])):\n",
    "        print(a[i][j][1])\n",
    "        "
   ]
  },
  {
   "cell_type": "code",
   "execution_count": 6,
   "id": "964f3f11",
   "metadata": {},
   "outputs": [],
   "source": [
    "\"\"\"\n",
    "b) Use the ravel function to flatten the data. What’s the difference between ravel\n",
    "and flatten?\n",
    "\"\"\"\n",
    "\n",
    "a = np.ravel(a , order = 'c')"
   ]
  },
  {
   "cell_type": "code",
   "execution_count": 38,
   "id": "20ce701e",
   "metadata": {},
   "outputs": [
    {
     "data": {
      "text/plain": [
       "array([ 0,  1,  2,  3,  4,  5,  6,  7,  8,  9, 10, 11, 12, 13, 14, 15, 16,\n",
       "       17, 18, 19, 20, 21, 22, 23])"
      ]
     },
     "execution_count": 38,
     "metadata": {},
     "output_type": "execute_result"
    }
   ],
   "source": [
    "a"
   ]
  },
  {
   "cell_type": "code",
   "execution_count": 12,
   "id": "2babab58",
   "metadata": {},
   "outputs": [],
   "source": [
    "\"\"\"\n",
    "c) Reshape the data so that there are 6 rows of 4 columns per row.\n",
    "\n",
    "\"\"\"\n",
    "at = a.reshape(6,4)"
   ]
  },
  {
   "cell_type": "code",
   "execution_count": 13,
   "id": "cfa65e2b",
   "metadata": {},
   "outputs": [
    {
     "data": {
      "text/plain": [
       "array([[ 0,  4,  8, 12, 16, 20],\n",
       "       [ 1,  5,  9, 13, 17, 21],\n",
       "       [ 2,  6, 10, 14, 18, 22],\n",
       "       [ 3,  7, 11, 15, 19, 23]])"
      ]
     },
     "execution_count": 13,
     "metadata": {},
     "output_type": "execute_result"
    }
   ],
   "source": [
    "\"\"\"\n",
    "d) Get the transpose of the new data structure.\n",
    "\n",
    "\"\"\"\n",
    "\n",
    "np.transpose(at)"
   ]
  },
  {
   "cell_type": "code",
   "execution_count": 14,
   "id": "b3df4635",
   "metadata": {},
   "outputs": [
    {
     "data": {
      "text/plain": [
       "array([[ 0,  1,  2,  3],\n",
       "       [ 4,  5,  6,  7],\n",
       "       [ 8,  9, 10, 11],\n",
       "       [12, 13, 14, 15],\n",
       "       [16, 17, 18, 19],\n",
       "       [20, 21, 22, 23]])"
      ]
     },
     "execution_count": 14,
     "metadata": {},
     "output_type": "execute_result"
    }
   ],
   "source": [
    "\"\"\"\n",
    "e) Restack the rows of the transposed data structure in reverse order (hint: look at\n",
    "the row_stack function).\n",
    "\"\"\"\n",
    "\n"
   ]
  },
  {
   "cell_type": "code",
   "execution_count": 15,
   "id": "86203cc2",
   "metadata": {},
   "outputs": [
    {
     "name": "stderr",
     "output_type": "stream",
     "text": [
      "C:\\Users\\smula\\AppData\\Local\\Temp\\ipykernel_3256\\2886686844.py:1: FutureWarning: arrays to stack must be passed as a \"sequence\" type such as list or tuple. Support for non-sequence iterables such as generators is deprecated as of NumPy 1.16 and will raise an error in the future.\n",
      "  reversed_array = np.row_stack(reversed(at))\n"
     ]
    }
   ],
   "source": [
    "reversed_array = np.row_stack(reversed(at))"
   ]
  },
  {
   "cell_type": "code",
   "execution_count": 16,
   "id": "1bd9f6d6",
   "metadata": {},
   "outputs": [
    {
     "data": {
      "text/plain": [
       "array([[20, 21, 22, 23],\n",
       "       [16, 17, 18, 19],\n",
       "       [12, 13, 14, 15],\n",
       "       [ 8,  9, 10, 11],\n",
       "       [ 4,  5,  6,  7],\n",
       "       [ 0,  1,  2,  3]])"
      ]
     },
     "execution_count": 16,
     "metadata": {},
     "output_type": "execute_result"
    }
   ],
   "source": [
    "reversed_array"
   ]
  },
  {
   "cell_type": "code",
   "execution_count": 17,
   "id": "ef94c7c2",
   "metadata": {},
   "outputs": [],
   "source": [
    "\"\"\"\n",
    "f) Split the resulting data structure horizontally (hint: look at the hsplit function).\n",
    "\"\"\"\n",
    "\n",
    "splited_array = np.hsplit(reversed_array, 2)"
   ]
  },
  {
   "cell_type": "code",
   "execution_count": 18,
   "id": "8c18e2a2",
   "metadata": {},
   "outputs": [
    {
     "data": {
      "text/plain": [
       "[array([[20, 21],\n",
       "        [16, 17],\n",
       "        [12, 13],\n",
       "        [ 8,  9],\n",
       "        [ 4,  5],\n",
       "        [ 0,  1]]),\n",
       " array([[22, 23],\n",
       "        [18, 19],\n",
       "        [14, 15],\n",
       "        [10, 11],\n",
       "        [ 6,  7],\n",
       "        [ 2,  3]])]"
      ]
     },
     "execution_count": 18,
     "metadata": {},
     "output_type": "execute_result"
    }
   ],
   "source": [
    "splited_array"
   ]
  },
  {
   "cell_type": "markdown",
   "id": "e8095334",
   "metadata": {},
   "source": [
    "### 3. NumPy Exercise B\n",
    "\n",
    "- NOTE:\n",
    "* The AAPL.csv contains some stock price data for Apple.\n",
    "* The MSFT.csv contains some stock price data for Microsoft."
   ]
  },
  {
   "cell_type": "code",
   "execution_count": 33,
   "id": "6adb9ecf",
   "metadata": {},
   "outputs": [],
   "source": [
    "\"\"\"\n",
    "a) Use the loadtxt command to load data from AAPL.csv from columns 5 and 7 (i.e.,\n",
    "the close price and the volume)\n",
    "\"\"\"\n",
    "close, volume = np.loadtxt('AAPL.csv', delimiter=',', usecols=(4,6), unpack=True, skiprows = 1)"
   ]
  },
  {
   "cell_type": "code",
   "execution_count": 36,
   "id": "11d3e18f",
   "metadata": {},
   "outputs": [],
   "source": [
    "\"\"\"\n",
    "b) Based on the data provided, calculate the volume weighted average price for the\n",
    "stock (i.e., calculate the average price using the volume as weight values).\n",
    "\"\"\"\n",
    "vwap = np.average(close, weights = volume)"
   ]
  },
  {
   "cell_type": "code",
   "execution_count": 37,
   "id": "755d02ce",
   "metadata": {},
   "outputs": [
    {
     "data": {
      "text/plain": [
       "190.02952578964312"
      ]
     },
     "execution_count": 37,
     "metadata": {},
     "output_type": "execute_result"
    }
   ],
   "source": [
    "vwap"
   ]
  },
  {
   "cell_type": "code",
   "execution_count": 44,
   "id": "e34b81cb",
   "metadata": {},
   "outputs": [
    {
     "data": {
      "text/plain": [
       "197.0"
      ]
     },
     "execution_count": 44,
     "metadata": {},
     "output_type": "execute_result"
    }
   ],
   "source": [
    "\"\"\"\n",
    "c) Calculate the median value of the closing prices (hint: use the median function).\n",
    "\n",
    "\"\"\"\n",
    "\n",
    "median = np.median(close)\n",
    "median"
   ]
  },
  {
   "cell_type": "code",
   "execution_count": 45,
   "id": "754ba409",
   "metadata": {},
   "outputs": [
    {
     "data": {
      "text/plain": [
       "432.8804568188714"
      ]
     },
     "execution_count": 45,
     "metadata": {},
     "output_type": "execute_result"
    }
   ],
   "source": [
    "\"\"\"\n",
    "d) Calculate the variance value of the closing prices.\n",
    "\n",
    "\"\"\"\n",
    "\n",
    "variance = np.var(close)\n",
    "variance"
   ]
  },
  {
   "cell_type": "code",
   "execution_count": 48,
   "id": "1bb8ba1e",
   "metadata": {},
   "outputs": [],
   "source": [
    "\"\"\"\n",
    "e) Again, use the loadtxt command to load data from columns 3 and 4 (i.e., the high\n",
    "prices and the low prices).\n",
    "\"\"\"\n",
    "High , Low = np.loadtxt('AAPL.csv', delimiter = ',', usecols=(2,3), unpack=True, skiprows = 1)"
   ]
  },
  {
   "cell_type": "code",
   "execution_count": 53,
   "id": "7cecd6eb",
   "metadata": {},
   "outputs": [
    {
     "name": "stdout",
     "output_type": "stream",
     "text": [
      "Highest of High :  229.929993\n",
      "Lowest of Low :  142.0\n"
     ]
    }
   ],
   "source": [
    "\"\"\"\n",
    "f) Use the max and min functions to get the highest high and the lowest low value.\n",
    "\n",
    "\"\"\"\n",
    "highest = np.max(High)\n",
    "lowest = np.min(Low)\n",
    "\n",
    "print(\"Highest of High : \", highest)\n",
    "print(\"Lowest of Low : \", lowest)"
   ]
  },
  {
   "cell_type": "code",
   "execution_count": 54,
   "id": "53b66c17",
   "metadata": {},
   "outputs": [],
   "source": [
    "\"\"\"\n",
    "g) Load data from column 5 of AAPL.csv. Also, load data from column 5 of MSFT.csv.\n",
    "\n",
    "\"\"\"\n",
    "close_AAPL = np.loadtxt('AAPL.csv', delimiter=',', usecols=(4), unpack=True, skiprows = 1)\n",
    "close_MSFT = np.loadtxt('MSFT.csv', delimiter=',', usecols=(4), unpack=True, skiprows = 1)"
   ]
  },
  {
   "cell_type": "code",
   "execution_count": 57,
   "id": "22783651",
   "metadata": {},
   "outputs": [],
   "source": [
    "\"\"\"\n",
    "h) Calculate the covariance matrix of the closing prices of AAPL and MSFT (hint: use\n",
    "the cov function).\n",
    "\"\"\"\n",
    "cov_mat = np.stack((close_AAPL, close_MSFT), axis = 0) \n",
    "covv = np.cov(cov_mat)"
   ]
  },
  {
   "cell_type": "code",
   "execution_count": 58,
   "id": "1a953bce",
   "metadata": {},
   "outputs": [
    {
     "data": {
      "text/plain": [
       "array([434.60508015, 184.73421932])"
      ]
     },
     "execution_count": 58,
     "metadata": {},
     "output_type": "execute_result"
    }
   ],
   "source": [
    "# i) View the values on the diagonal (hint: diagonal).\n",
    "np.diag(covv)"
   ]
  },
  {
   "cell_type": "code",
   "execution_count": 60,
   "id": "1d57d9b0",
   "metadata": {},
   "outputs": [
    {
     "data": {
      "text/plain": [
       "array([[1.        , 0.65988802],\n",
       "       [0.65988802, 1.        ]])"
      ]
     },
     "execution_count": 60,
     "metadata": {},
     "output_type": "execute_result"
    }
   ],
   "source": [
    "\"\"\"\n",
    "j) Calculate the correlation coefficient of the closing prices of AAPL and MSFT (hint:\n",
    "corrcoef).\n",
    "\"\"\"\n",
    "\n",
    "corr = np.corrcoef(close_AAPL,close_MSFT)\n",
    "corr"
   ]
  },
  {
   "cell_type": "code",
   "execution_count": 62,
   "id": "cc6e6b52",
   "metadata": {},
   "outputs": [
    {
     "name": "stdout",
     "output_type": "stream",
     "text": [
      "https://www.example.com\n",
      "http://www.another-example.com.\n",
      "https://secure-example.com.\n"
     ]
    }
   ],
   "source": [
    "# Write a Python program that will identify URLs using regular expressions.\n",
    "\n",
    "\n",
    "import re\n",
    "\n",
    "# Sample text containing URLs\n",
    "text = \"\"\"\n",
    "Visit our website at https://www.example.com for more information.\n",
    "You can also find us at http://www.another-example.com.\n",
    "For secure connections, use https://secure-example.com.\n",
    "\"\"\"\n",
    "\n",
    "# Regular expression pattern to match URLs\n",
    "url_pattern = r'https?://\\S+'\n",
    "\n",
    "# Find all URLs in the text\n",
    "urls = re.findall(url_pattern, text)\n",
    "\n",
    "# Print the URLs\n",
    "for url in urls:\n",
    "    print(url)\n"
   ]
  },
  {
   "cell_type": "code",
   "execution_count": 64,
   "id": "069134a4",
   "metadata": {},
   "outputs": [
    {
     "name": "stdout",
     "output_type": "stream",
     "text": [
      "Collecting nltk\n",
      "  Downloading nltk-3.8.1-py3-none-any.whl (1.5 MB)\n",
      "     ---------------------------------------- 0.0/1.5 MB ? eta -:--:--\n",
      "     - -------------------------------------- 0.1/1.5 MB 1.3 MB/s eta 0:00:02\n",
      "     ------ --------------------------------- 0.2/1.5 MB 2.4 MB/s eta 0:00:01\n",
      "     --------- ------------------------------ 0.4/1.5 MB 2.5 MB/s eta 0:00:01\n",
      "     ----------------- ---------------------- 0.7/1.5 MB 3.8 MB/s eta 0:00:01\n",
      "     ------------------------------ --------- 1.1/1.5 MB 5.6 MB/s eta 0:00:01\n",
      "     ---------------------------------------- 1.5/1.5 MB 6.0 MB/s eta 0:00:00\n",
      "Requirement already satisfied: click in c:\\python\\lib\\site-packages (from nltk) (8.1.3)\n",
      "Collecting joblib (from nltk)\n",
      "  Downloading joblib-1.3.2-py3-none-any.whl.metadata (5.4 kB)\n",
      "Collecting regex>=2021.8.3 (from nltk)\n",
      "  Downloading regex-2023.10.3-cp310-cp310-win_amd64.whl.metadata (41 kB)\n",
      "     ---------------------------------------- 0.0/42.0 kB ? eta -:--:--\n",
      "     ---------------------------------------- 42.0/42.0 kB 2.0 MB/s eta 0:00:00\n",
      "Collecting tqdm (from nltk)\n",
      "  Downloading tqdm-4.66.1-py3-none-any.whl.metadata (57 kB)\n",
      "     ---------------------------------------- 0.0/57.6 kB ? eta -:--:--\n",
      "     ---------------------------------------- 57.6/57.6 kB ? eta 0:00:00\n",
      "Requirement already satisfied: colorama in c:\\python\\lib\\site-packages (from click->nltk) (0.4.6)\n",
      "Downloading regex-2023.10.3-cp310-cp310-win_amd64.whl (269 kB)\n",
      "   ---------------------------------------- 0.0/269.6 kB ? eta -:--:--\n",
      "   --------------------------------------- 269.6/269.6 kB 16.2 MB/s eta 0:00:00\n",
      "Downloading joblib-1.3.2-py3-none-any.whl (302 kB)\n",
      "   ---------------------------------------- 0.0/302.2 kB ? eta -:--:--\n",
      "   --------------------------------------- 302.2/302.2 kB 18.2 MB/s eta 0:00:00\n",
      "Downloading tqdm-4.66.1-py3-none-any.whl (78 kB)\n",
      "   ---------------------------------------- 0.0/78.3 kB ? eta -:--:--\n",
      "   ---------------------------------------- 78.3/78.3 kB ? eta 0:00:00\n",
      "Installing collected packages: tqdm, regex, joblib, nltk\n",
      "Successfully installed joblib-1.3.2 nltk-3.8.1 regex-2023.10.3 tqdm-4.66.1\n",
      "Note: you may need to restart the kernel to use updated packages.\n"
     ]
    },
    {
     "name": "stderr",
     "output_type": "stream",
     "text": [
      "WARNING: There was an error checking the latest version of pip.\n"
     ]
    }
   ],
   "source": [
    "pip install nltk"
   ]
  },
  {
   "cell_type": "code",
   "execution_count": 1,
   "id": "35ffbb00",
   "metadata": {},
   "outputs": [],
   "source": [
    "import nltk"
   ]
  },
  {
   "cell_type": "code",
   "execution_count": 2,
   "id": "7f771139",
   "metadata": {},
   "outputs": [
    {
     "name": "stdout",
     "output_type": "stream",
     "text": [
      "showing info https://raw.githubusercontent.com/nltk/nltk_data/gh-pages/index.xml\n"
     ]
    },
    {
     "data": {
      "text/plain": [
       "True"
      ]
     },
     "execution_count": 2,
     "metadata": {},
     "output_type": "execute_result"
    }
   ],
   "source": [
    "nltk.download()"
   ]
  },
  {
   "cell_type": "code",
   "execution_count": null,
   "id": "4cb3cd4b",
   "metadata": {},
   "outputs": [],
   "source": []
  },
  {
   "cell_type": "code",
   "execution_count": null,
   "id": "fee5067b",
   "metadata": {},
   "outputs": [],
   "source": []
  }
 ],
 "metadata": {
  "kernelspec": {
   "display_name": "Python 3 (ipykernel)",
   "language": "python",
   "name": "python3"
  },
  "language_info": {
   "codemirror_mode": {
    "name": "ipython",
    "version": 3
   },
   "file_extension": ".py",
   "mimetype": "text/x-python",
   "name": "python",
   "nbconvert_exporter": "python",
   "pygments_lexer": "ipython3",
   "version": "3.10.6"
  }
 },
 "nbformat": 4,
 "nbformat_minor": 5
}
