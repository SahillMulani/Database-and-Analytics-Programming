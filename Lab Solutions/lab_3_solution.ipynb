{
 "cells": [
  {
   "cell_type": "code",
   "execution_count": 1,
   "metadata": {
    "button": false,
    "collapsed": false,
    "deletable": true,
    "new_sheet": false,
    "run_control": {
     "read_only": false
    }
   },
   "outputs": [
    {
     "data": {
      "text/plain": [
       "-8"
      ]
     },
     "execution_count": 1,
     "metadata": {},
     "output_type": "execute_result"
    }
   ],
   "source": [
    "# Lab 3 Solutions\n",
    "# Question 1\n",
    "def mul_by_num(num):\n",
    "    return lambda a : a * num\n",
    "\n",
    "x = mul_by_num(5)\n",
    "x(3)\n",
    "\n",
    "y = mul_by_num(2)\n",
    "y(-4)"
   ]
  },
  {
   "cell_type": "code",
   "execution_count": 2,
   "metadata": {
    "button": false,
    "collapsed": false,
    "deletable": true,
    "new_sheet": false,
    "run_control": {
     "read_only": false
    }
   },
   "outputs": [
    {
     "name": "stdout",
     "output_type": "stream",
     "text": [
      "[0, 1, 1, 2, 3, 5, 8, 13, 21, 34, 55]\n"
     ]
    }
   ],
   "source": [
    "# Question 2\n",
    "\n",
    "# Way #1: Loop\n",
    "def fibonacci(n):\n",
    "    f0 = 0\n",
    "    f1 = 1\n",
    "    myseq = []\n",
    "    \n",
    "    for i in range(0, n):\n",
    "        myseq.append(f0)\n",
    "        temp = f0\n",
    "        f0 = f1\n",
    "        f1 = temp + f1\n",
    "        \n",
    "          \n",
    "    print(myseq)\n",
    "\n",
    "fibonacci(11)"
   ]
  },
  {
   "cell_type": "code",
   "execution_count": 3,
   "metadata": {
    "button": false,
    "collapsed": false,
    "deletable": true,
    "new_sheet": false,
    "run_control": {
     "read_only": false
    }
   },
   "outputs": [
    {
     "name": "stdout",
     "output_type": "stream",
     "text": [
      "0 1 1 2 3 5 8 13 21 34 55 "
     ]
    }
   ],
   "source": [
    "# Way #2: Using recursion\n",
    "def fibonacciRec(n):\n",
    "    if n == 0:\n",
    "        return 0\n",
    "    elif n == 1:\n",
    "        return 1\n",
    "    else:\n",
    "        return fibonacciRec(n-1) + fibonacciRec(n-2)\n",
    "\n",
    "for iter in range(11):\n",
    "    print(fibonacciRec(iter), end = ' ')"
   ]
  },
  {
   "cell_type": "code",
   "execution_count": 4,
   "metadata": {
    "button": false,
    "collapsed": false,
    "deletable": true,
    "new_sheet": false,
    "run_control": {
     "read_only": false
    }
   },
   "outputs": [
    {
     "data": {
      "text/plain": [
       "[0, 1, 1, 2, 3, 5, 8, 13, 21, 34, 55, 89, 144, 233, 377]"
      ]
     },
     "execution_count": 4,
     "metadata": {},
     "output_type": "execute_result"
    }
   ],
   "source": [
    "# Way #3: Using lambda functions\n",
    "# https://docs.python.org/3/library/functools.html#functools.reduce\n",
    "from functools import reduce\n",
    "\n",
    "# Apply this function to this sequence, with the sequence initialised to [0,1]\n",
    "fib = lambda n: reduce(lambda x, throwAway : x + [x[-1] + x[-2]], range(n-2), [0, 1])[:n]\n",
    "\n",
    "fib(15)\n",
    "\n",
    "#############################################################\n",
    "# Breaking this down:\n",
    "#    The reduce function takes up to three inputs: reduce(function, iterable[, initializer])\n",
    "#    In this example, the function is     lambda x, throwAway : x + [x[-1] + x[-2]]\n",
    "#                     the iterable is     range(n-2)\n",
    "#                     the initializer is  [0,1]\n",
    "#    The lambda takes two parameters x and throwAway - two parameters are required \n",
    "#    due to the underlying definition of how the reduce function works; however, we \n",
    "#    solely operate on x .\n",
    "#    \n",
    "#    The first lambda takes n as a parameter - this is to determine how many Fibonacci sequence numbers \n",
    "#    will be generated.\n",
    "#    \n",
    "#    Essentially, the reduce in this case will work in the following way:\n",
    "#    \n",
    "#    x = [0,1]  # The initialiazer\n",
    "#    do n-2 times:  # Based on the iterable i.e., range(n-2)\n",
    "#        x = [x[-1] + x[-2]]\n",
    "#        \n",
    "#    \n",
    "#    E.g., Let n = 5. Then \n",
    "#    \n",
    "#    x = [0,1]               # Initialized x values\n",
    "#    x = [0,1] + [1 + 0]     # this results in [0,1,1]\n",
    "#    x = [0,1,1] + [1 + 1]   # this results in [0,1,1,2]\n",
    "#    x = [0,1,1,2] + [2 + 1] # this results in [0,1,1,2,3]\n",
    "#    \n",
    "#    The [:n] at the end of the fib definition is to cater for the correct result being returned for fib(1). \n",
    "#    Without this fib(1) would (incorrectly) return [0,1]. \n",
    "#############################################################\n"
   ]
  },
  {
   "cell_type": "code",
   "execution_count": null,
   "metadata": {
    "button": false,
    "collapsed": false,
    "deletable": true,
    "new_sheet": false,
    "run_control": {
     "read_only": false
    }
   },
   "outputs": [],
   "source": [
    "# Question 3\n",
    "from pprint import pprint\n",
    "import requests\n",
    "\n",
    "def weather_data(query):\n",
    "    res=requests.get('http://api.openweathermap.org/data/2.5/weather?'+query+\n",
    "                  '&APPID=b35975e18dc93725acb092f7272cc6b8&units=metric');\n",
    "    return res.json();\n",
    "\n",
    "def print_weather(result,city):\n",
    "    print(\"{}'s temperature: {}°C \".format(city,result['main']['temp']))\n",
    "    print(\"Wind speed: {} m/s\".format(result['wind']['speed']))\n",
    "    print(\"Description: {}\".format(result['weather'][0]['description']))\n",
    "    print(\"Weather: {}\".format(result['weather'][0]['main']))\n",
    "\n",
    "def main():\n",
    "    city=input('Enter the city:')\n",
    "    print()\n",
    "    try:\n",
    "      query='q='+city\n",
    "      w_data=weather_data(query)\n",
    "      print_weather(w_data, city)\n",
    "      print()\n",
    "    except:\n",
    "      print('City name not found...' + e)\n",
    "if __name__=='__main__':\n",
    "    main()"
   ]
  },
  {
   "cell_type": "code",
   "execution_count": null,
   "metadata": {
    "button": false,
    "collapsed": false,
    "deletable": true,
    "new_sheet": false,
    "run_control": {
     "read_only": false
    }
   },
   "outputs": [],
   "source": [
    "# Question 4\n",
    "import xml.etree.ElementTree as ET\n",
    "import csv\n",
    "\n",
    "xmlFile = 'people.xml'\n",
    "tree = ET.parse(xmlFile)\n",
    "root = tree.getroot()\n",
    "\n",
    "# open a file for writing\n",
    "\n",
    "csvFile = 'residentData.csv'\n",
    "\n",
    "Resident_data = open(csvFile, 'w',  encoding='utf-8')\n",
    "\n",
    "# create the csv writer object\n",
    "\n",
    "csvwriter = csv.writer(Resident_data)\n",
    "resident_head = []\n",
    "\n",
    "count = 0\n",
    "for member in root.findall('person'):\n",
    "    resident = []\n",
    "    address_list = []\n",
    "    if count == 0:\n",
    "        first_name = member.find('first_name').tag\n",
    "        resident_head.append(first_name)\n",
    "        last_name = member.find('last_name').tag\n",
    "        resident_head.append(last_name)\n",
    "        phone = member.find('phone').tag\n",
    "        resident_head.append(phone)\n",
    "        email = member.find('email').tag\n",
    "        resident_head.append(email)\n",
    "        gender = member.find('gender').tag\n",
    "        resident_head.append(gender)\n",
    "        address = member[6].tag\n",
    "        resident_head.append(address)\n",
    "        csvwriter.writerow(resident_head)\n",
    "        count = count + 1\n",
    "    first_name = member.find('first_name').text\n",
    "    resident.append(first_name)\n",
    "    last_name = member.find('last_name').text\n",
    "    resident.append(last_name)\n",
    "    phone = member.find('phone').text\n",
    "    resident.append(phone)\n",
    "    email = member.find('email').text\n",
    "    resident.append(email)\n",
    "    gender = member.find('gender').text\n",
    "    resident.append(gender)\n",
    "    street_number= member[6][0].text\n",
    "    address_list.append(street_number)\n",
    "    street_name = member[6][1].text\n",
    "    address_list.append(street_name)\n",
    "    city = member[6][2].text\n",
    "    address_list.append(city)\n",
    "    state = member[6][3].text\n",
    "    if state == None: \n",
    "    address_list.append(state)\n",
    "    country = member[6][4].text\n",
    "    address_list.append(country)\n",
    "    resident.append(address_list)\n",
    "    print(address_list)\n",
    "    csvwriter.writerow(resident)\n",
    "\n",
    "Resident_data.close()"
   ]
  },
  {
   "cell_type": "code",
   "execution_count": null,
   "metadata": {
    "button": false,
    "collapsed": true,
    "deletable": true,
    "new_sheet": false,
    "run_control": {
     "read_only": false
    }
   },
   "outputs": [],
   "source": []
  }
 ],
 "metadata": {
  "kernelspec": {
   "display_name": "Python 3",
   "language": "python",
   "name": "python3"
  },
  "language_info": {
   "codemirror_mode": {
    "name": "ipython",
    "version": 3
   },
   "file_extension": ".py",
   "mimetype": "text/x-python",
   "name": "python",
   "nbconvert_exporter": "python",
   "pygments_lexer": "ipython3",
   "version": "3.5.0"
  }
 },
 "nbformat": 4,
 "nbformat_minor": 2
}
